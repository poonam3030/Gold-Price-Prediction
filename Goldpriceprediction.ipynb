{
  "nbformat": 4,
  "nbformat_minor": 0,
  "metadata": {
    "colab": {
      "provenance": []
    },
    "kernelspec": {
      "name": "python3",
      "display_name": "Python 3"
    },
    "language_info": {
      "name": "python"
    }
  },
  "cells": [
    {
      "cell_type": "markdown",
      "source": [
        "# Gold Price Prediction using Machine Learning"
      ],
      "metadata": {
        "id": "iB8Eh4kqSCBS"
      }
    },
    {
      "cell_type": "markdown",
      "source": [
        "Goal Of Project"
      ],
      "metadata": {
        "id": "TX3MbQHvTGVP"
      }
    },
    {
      "cell_type": "markdown",
      "source": [
        "There are many real time series dataset present in the market. Mostly, time series dataset used in stock market. By using machine learning algorithm , prediction of future values take place. In this project, prediction of future values(30 days) taken place using LSTM.\n"
      ],
      "metadata": {
        "id": "eo3HPYHATQuo"
      }
    },
    {
      "cell_type": "markdown",
      "source": [
        "Import libraries"
      ],
      "metadata": {
        "id": "HmOL1rJnSAsd"
      }
    },
    {
      "cell_type": "code",
      "execution_count": null,
      "metadata": {
        "id": "ufW9BH7Aed97"
      },
      "outputs": [],
      "source": [
        "import numpy as np\n",
        "import pandas as pd\n",
        "import tensorflow as tf\n",
        "from tensorflow import keras\n",
        "from tensorflow.keras import layers"
      ]
    },
    {
      "cell_type": "code",
      "source": [
        "from google.colab import files\n",
        "upload = files.upload()"
      ],
      "metadata": {
        "id": "tGxWB_vsgtlp",
        "colab": {
          "resources": {
            "http://localhost:8080/nbextensions/google.colab/files.js": {
              "data": "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",
              "ok": true,
              "headers": [
                [
                  "content-type",
                  "application/javascript"
                ]
              ],
              "status": 200,
              "status_text": ""
            }
          },
          "base_uri": "https://localhost:8080/",
          "height": 73
        },
        "outputId": "eed61a35-1774-4804-b19e-8583be98b91a"
      },
      "execution_count": null,
      "outputs": [
        {
          "output_type": "display_data",
          "data": {
            "text/plain": [
              "<IPython.core.display.HTML object>"
            ],
            "text/html": [
              "\n",
              "     <input type=\"file\" id=\"files-758651f8-b295-4efb-8d94-35b2bff65e68\" name=\"files[]\" multiple disabled\n",
              "        style=\"border:none\" />\n",
              "     <output id=\"result-758651f8-b295-4efb-8d94-35b2bff65e68\">\n",
              "      Upload widget is only available when the cell has been executed in the\n",
              "      current browser session. Please rerun this cell to enable.\n",
              "      </output>\n",
              "      <script src=\"/nbextensions/google.colab/files.js\"></script> "
            ]
          },
          "metadata": {}
        },
        {
          "output_type": "stream",
          "name": "stdout",
          "text": [
            "Saving Golddataset.csv to Golddataset (1).csv\n"
          ]
        }
      ]
    },
    {
      "cell_type": "markdown",
      "source": [
        "Upload dataset"
      ],
      "metadata": {
        "id": "dP1RV11cP7Do"
      }
    },
    {
      "cell_type": "code",
      "source": [
        "data =  pd.read_csv(\"Golddataset.csv\")"
      ],
      "metadata": {
        "id": "HLO7DpuUP6aj"
      },
      "execution_count": null,
      "outputs": []
    },
    {
      "cell_type": "code",
      "source": [
        "data.shape"
      ],
      "metadata": {
        "colab": {
          "base_uri": "https://localhost:8080/"
        },
        "id": "LwznoW4TRxLr",
        "outputId": "12c2f56f-e88e-46fc-d8b6-dd65670f8a0b"
      },
      "execution_count": null,
      "outputs": [
        {
          "output_type": "execute_result",
          "data": {
            "text/plain": [
              "(1718, 81)"
            ]
          },
          "metadata": {},
          "execution_count": 8
        }
      ]
    },
    {
      "cell_type": "markdown",
      "source": [
        "Print first 5 columns"
      ],
      "metadata": {
        "id": "JzvdYW0wTgX5"
      }
    },
    {
      "cell_type": "code",
      "source": [
        "data.head(5)"
      ],
      "metadata": {
        "colab": {
          "base_uri": "https://localhost:8080/",
          "height": 490
        },
        "id": "Cq5pej2yTaMF",
        "outputId": "568e0045-c75e-45fe-e5e7-73e764404d4f"
      },
      "execution_count": null,
      "outputs": [
        {
          "output_type": "execute_result",
          "data": {
            "text/plain": [
              "         Date        Open        High         Low       Close   Adj Close  \\\n",
              "0  15-12-2011  154.740005  154.949997  151.710007  152.330002  152.330002   \n",
              "1  16-12-2011  154.309998  155.369995  153.899994  155.229996  155.229996   \n",
              "2  19-12-2011  155.479996  155.860001  154.360001  154.869995  154.869995   \n",
              "3  20-12-2011  156.820007  157.429993  156.580002  156.979996  156.979996   \n",
              "4  21-12-2011  156.979996  157.529999  156.130005  157.160004  157.160004   \n",
              "\n",
              "     Volume     SP_open     SP_high      SP_low  ...    GDX_Low  GDX_Close  \\\n",
              "0  21521900  123.029999  123.199997  121.989998  ...  51.570000  51.680000   \n",
              "1  18124300  122.230003  122.949997  121.300003  ...  52.040001  52.680000   \n",
              "2  12547200  122.059998  122.320000  120.029999  ...  51.029999  51.169998   \n",
              "3   9136300  122.180000  124.139999  120.370003  ...  52.369999  52.990002   \n",
              "4  11996100  123.930000  124.360001  122.750000  ...  52.419998  52.959999   \n",
              "\n",
              "   GDX_Adj Close  GDX_Volume   USO_Open   USO_High    USO_Low  USO_Close  \\\n",
              "0      48.973877    20605600  36.900002  36.939999  36.049999  36.130001   \n",
              "1      49.921513    16285400  36.180000  36.500000  35.730000  36.270000   \n",
              "2      48.490578    15120200  36.389999  36.450001  35.930000  36.200001   \n",
              "3      50.215282    11644900  37.299999  37.610001  37.220001  37.560001   \n",
              "4      50.186852     8724300  37.669998  38.240002  37.520000  38.110001   \n",
              "\n",
              "   USO_Adj Close  USO_Volume  \n",
              "0      36.130001    12616700  \n",
              "1      36.270000    12578800  \n",
              "2      36.200001     7418200  \n",
              "3      37.560001    10041600  \n",
              "4      38.110001    10728000  \n",
              "\n",
              "[5 rows x 81 columns]"
            ],
            "text/html": [
              "\n",
              "  <div id=\"df-1029080b-e188-4a14-9814-3f17d5c3b10b\">\n",
              "    <div class=\"colab-df-container\">\n",
              "      <div>\n",
              "<style scoped>\n",
              "    .dataframe tbody tr th:only-of-type {\n",
              "        vertical-align: middle;\n",
              "    }\n",
              "\n",
              "    .dataframe tbody tr th {\n",
              "        vertical-align: top;\n",
              "    }\n",
              "\n",
              "    .dataframe thead th {\n",
              "        text-align: right;\n",
              "    }\n",
              "</style>\n",
              "<table border=\"1\" class=\"dataframe\">\n",
              "  <thead>\n",
              "    <tr style=\"text-align: right;\">\n",
              "      <th></th>\n",
              "      <th>Date</th>\n",
              "      <th>Open</th>\n",
              "      <th>High</th>\n",
              "      <th>Low</th>\n",
              "      <th>Close</th>\n",
              "      <th>Adj Close</th>\n",
              "      <th>Volume</th>\n",
              "      <th>SP_open</th>\n",
              "      <th>SP_high</th>\n",
              "      <th>SP_low</th>\n",
              "      <th>...</th>\n",
              "      <th>GDX_Low</th>\n",
              "      <th>GDX_Close</th>\n",
              "      <th>GDX_Adj Close</th>\n",
              "      <th>GDX_Volume</th>\n",
              "      <th>USO_Open</th>\n",
              "      <th>USO_High</th>\n",
              "      <th>USO_Low</th>\n",
              "      <th>USO_Close</th>\n",
              "      <th>USO_Adj Close</th>\n",
              "      <th>USO_Volume</th>\n",
              "    </tr>\n",
              "  </thead>\n",
              "  <tbody>\n",
              "    <tr>\n",
              "      <th>0</th>\n",
              "      <td>15-12-2011</td>\n",
              "      <td>154.740005</td>\n",
              "      <td>154.949997</td>\n",
              "      <td>151.710007</td>\n",
              "      <td>152.330002</td>\n",
              "      <td>152.330002</td>\n",
              "      <td>21521900</td>\n",
              "      <td>123.029999</td>\n",
              "      <td>123.199997</td>\n",
              "      <td>121.989998</td>\n",
              "      <td>...</td>\n",
              "      <td>51.570000</td>\n",
              "      <td>51.680000</td>\n",
              "      <td>48.973877</td>\n",
              "      <td>20605600</td>\n",
              "      <td>36.900002</td>\n",
              "      <td>36.939999</td>\n",
              "      <td>36.049999</td>\n",
              "      <td>36.130001</td>\n",
              "      <td>36.130001</td>\n",
              "      <td>12616700</td>\n",
              "    </tr>\n",
              "    <tr>\n",
              "      <th>1</th>\n",
              "      <td>16-12-2011</td>\n",
              "      <td>154.309998</td>\n",
              "      <td>155.369995</td>\n",
              "      <td>153.899994</td>\n",
              "      <td>155.229996</td>\n",
              "      <td>155.229996</td>\n",
              "      <td>18124300</td>\n",
              "      <td>122.230003</td>\n",
              "      <td>122.949997</td>\n",
              "      <td>121.300003</td>\n",
              "      <td>...</td>\n",
              "      <td>52.040001</td>\n",
              "      <td>52.680000</td>\n",
              "      <td>49.921513</td>\n",
              "      <td>16285400</td>\n",
              "      <td>36.180000</td>\n",
              "      <td>36.500000</td>\n",
              "      <td>35.730000</td>\n",
              "      <td>36.270000</td>\n",
              "      <td>36.270000</td>\n",
              "      <td>12578800</td>\n",
              "    </tr>\n",
              "    <tr>\n",
              "      <th>2</th>\n",
              "      <td>19-12-2011</td>\n",
              "      <td>155.479996</td>\n",
              "      <td>155.860001</td>\n",
              "      <td>154.360001</td>\n",
              "      <td>154.869995</td>\n",
              "      <td>154.869995</td>\n",
              "      <td>12547200</td>\n",
              "      <td>122.059998</td>\n",
              "      <td>122.320000</td>\n",
              "      <td>120.029999</td>\n",
              "      <td>...</td>\n",
              "      <td>51.029999</td>\n",
              "      <td>51.169998</td>\n",
              "      <td>48.490578</td>\n",
              "      <td>15120200</td>\n",
              "      <td>36.389999</td>\n",
              "      <td>36.450001</td>\n",
              "      <td>35.930000</td>\n",
              "      <td>36.200001</td>\n",
              "      <td>36.200001</td>\n",
              "      <td>7418200</td>\n",
              "    </tr>\n",
              "    <tr>\n",
              "      <th>3</th>\n",
              "      <td>20-12-2011</td>\n",
              "      <td>156.820007</td>\n",
              "      <td>157.429993</td>\n",
              "      <td>156.580002</td>\n",
              "      <td>156.979996</td>\n",
              "      <td>156.979996</td>\n",
              "      <td>9136300</td>\n",
              "      <td>122.180000</td>\n",
              "      <td>124.139999</td>\n",
              "      <td>120.370003</td>\n",
              "      <td>...</td>\n",
              "      <td>52.369999</td>\n",
              "      <td>52.990002</td>\n",
              "      <td>50.215282</td>\n",
              "      <td>11644900</td>\n",
              "      <td>37.299999</td>\n",
              "      <td>37.610001</td>\n",
              "      <td>37.220001</td>\n",
              "      <td>37.560001</td>\n",
              "      <td>37.560001</td>\n",
              "      <td>10041600</td>\n",
              "    </tr>\n",
              "    <tr>\n",
              "      <th>4</th>\n",
              "      <td>21-12-2011</td>\n",
              "      <td>156.979996</td>\n",
              "      <td>157.529999</td>\n",
              "      <td>156.130005</td>\n",
              "      <td>157.160004</td>\n",
              "      <td>157.160004</td>\n",
              "      <td>11996100</td>\n",
              "      <td>123.930000</td>\n",
              "      <td>124.360001</td>\n",
              "      <td>122.750000</td>\n",
              "      <td>...</td>\n",
              "      <td>52.419998</td>\n",
              "      <td>52.959999</td>\n",
              "      <td>50.186852</td>\n",
              "      <td>8724300</td>\n",
              "      <td>37.669998</td>\n",
              "      <td>38.240002</td>\n",
              "      <td>37.520000</td>\n",
              "      <td>38.110001</td>\n",
              "      <td>38.110001</td>\n",
              "      <td>10728000</td>\n",
              "    </tr>\n",
              "  </tbody>\n",
              "</table>\n",
              "<p>5 rows × 81 columns</p>\n",
              "</div>\n",
              "      <button class=\"colab-df-convert\" onclick=\"convertToInteractive('df-1029080b-e188-4a14-9814-3f17d5c3b10b')\"\n",
              "              title=\"Convert this dataframe to an interactive table.\"\n",
              "              style=\"display:none;\">\n",
              "        \n",
              "  <svg xmlns=\"http://www.w3.org/2000/svg\" height=\"24px\"viewBox=\"0 0 24 24\"\n",
              "       width=\"24px\">\n",
              "    <path d=\"M0 0h24v24H0V0z\" fill=\"none\"/>\n",
              "    <path d=\"M18.56 5.44l.94 2.06.94-2.06 2.06-.94-2.06-.94-.94-2.06-.94 2.06-2.06.94zm-11 1L8.5 8.5l.94-2.06 2.06-.94-2.06-.94L8.5 2.5l-.94 2.06-2.06.94zm10 10l.94 2.06.94-2.06 2.06-.94-2.06-.94-.94-2.06-.94 2.06-2.06.94z\"/><path d=\"M17.41 7.96l-1.37-1.37c-.4-.4-.92-.59-1.43-.59-.52 0-1.04.2-1.43.59L10.3 9.45l-7.72 7.72c-.78.78-.78 2.05 0 2.83L4 21.41c.39.39.9.59 1.41.59.51 0 1.02-.2 1.41-.59l7.78-7.78 2.81-2.81c.8-.78.8-2.07 0-2.86zM5.41 20L4 18.59l7.72-7.72 1.47 1.35L5.41 20z\"/>\n",
              "  </svg>\n",
              "      </button>\n",
              "      \n",
              "  <style>\n",
              "    .colab-df-container {\n",
              "      display:flex;\n",
              "      flex-wrap:wrap;\n",
              "      gap: 12px;\n",
              "    }\n",
              "\n",
              "    .colab-df-convert {\n",
              "      background-color: #E8F0FE;\n",
              "      border: none;\n",
              "      border-radius: 50%;\n",
              "      cursor: pointer;\n",
              "      display: none;\n",
              "      fill: #1967D2;\n",
              "      height: 32px;\n",
              "      padding: 0 0 0 0;\n",
              "      width: 32px;\n",
              "    }\n",
              "\n",
              "    .colab-df-convert:hover {\n",
              "      background-color: #E2EBFA;\n",
              "      box-shadow: 0px 1px 2px rgba(60, 64, 67, 0.3), 0px 1px 3px 1px rgba(60, 64, 67, 0.15);\n",
              "      fill: #174EA6;\n",
              "    }\n",
              "\n",
              "    [theme=dark] .colab-df-convert {\n",
              "      background-color: #3B4455;\n",
              "      fill: #D2E3FC;\n",
              "    }\n",
              "\n",
              "    [theme=dark] .colab-df-convert:hover {\n",
              "      background-color: #434B5C;\n",
              "      box-shadow: 0px 1px 3px 1px rgba(0, 0, 0, 0.15);\n",
              "      filter: drop-shadow(0px 1px 2px rgba(0, 0, 0, 0.3));\n",
              "      fill: #FFFFFF;\n",
              "    }\n",
              "  </style>\n",
              "\n",
              "      <script>\n",
              "        const buttonEl =\n",
              "          document.querySelector('#df-1029080b-e188-4a14-9814-3f17d5c3b10b button.colab-df-convert');\n",
              "        buttonEl.style.display =\n",
              "          google.colab.kernel.accessAllowed ? 'block' : 'none';\n",
              "\n",
              "        async function convertToInteractive(key) {\n",
              "          const element = document.querySelector('#df-1029080b-e188-4a14-9814-3f17d5c3b10b');\n",
              "          const dataTable =\n",
              "            await google.colab.kernel.invokeFunction('convertToInteractive',\n",
              "                                                     [key], {});\n",
              "          if (!dataTable) return;\n",
              "\n",
              "          const docLinkHtml = 'Like what you see? Visit the ' +\n",
              "            '<a target=\"_blank\" href=https://colab.research.google.com/notebooks/data_table.ipynb>data table notebook</a>'\n",
              "            + ' to learn more about interactive tables.';\n",
              "          element.innerHTML = '';\n",
              "          dataTable['output_type'] = 'display_data';\n",
              "          await google.colab.output.renderOutput(dataTable, element);\n",
              "          const docLink = document.createElement('div');\n",
              "          docLink.innerHTML = docLinkHtml;\n",
              "          element.appendChild(docLink);\n",
              "        }\n",
              "      </script>\n",
              "    </div>\n",
              "  </div>\n",
              "  "
            ]
          },
          "metadata": {},
          "execution_count": 9
        }
      ]
    },
    {
      "cell_type": "markdown",
      "source": [
        "Print last 5 columns data"
      ],
      "metadata": {
        "id": "8HcLc-fQTpW4"
      }
    },
    {
      "cell_type": "code",
      "source": [
        "data.tail()"
      ],
      "metadata": {
        "colab": {
          "base_uri": "https://localhost:8080/",
          "height": 490
        },
        "id": "DnR8hzAWTXhg",
        "outputId": "63be072f-ab1a-41cb-cfee-55515886bbc7"
      },
      "execution_count": null,
      "outputs": [
        {
          "output_type": "execute_result",
          "data": {
            "text/plain": [
              "            Date        Open        High         Low       Close   Adj Close  \\\n",
              "1713  24-12-2018  119.570000  120.139999  119.570000  120.019997  120.019997   \n",
              "1714  26-12-2018  120.620003  121.000000  119.570000  119.660004  119.660004   \n",
              "1715  27-12-2018  120.570000  120.900002  120.139999  120.570000  120.570000   \n",
              "1716  28-12-2018  120.800003  121.080002  120.720001  121.059998  121.059998   \n",
              "1717  31-12-2018  120.980003  121.260002  120.830002  121.250000  121.250000   \n",
              "\n",
              "        Volume     SP_open     SP_high      SP_low  ...    GDX_Low  GDX_Close  \\\n",
              "1713   9736400  239.039993  240.839996  234.270004  ...  20.650000  21.090000   \n",
              "1714  14293500  235.970001  246.179993  233.759995  ...  20.530001  20.620001   \n",
              "1715  11874400  242.570007  248.289993  238.960007  ...  20.700001  20.969999   \n",
              "1716   6864700  249.580002  251.399994  246.449997  ...  20.570000  20.600000   \n",
              "1717   8449400  249.559998  250.190002  247.470001  ...  20.559999  21.090000   \n",
              "\n",
              "      GDX_Adj Close  GDX_Volume  USO_Open  USO_High  USO_Low  USO_Close  \\\n",
              "1713      21.090000    60507000      9.49      9.52     9.28       9.29   \n",
              "1714      20.620001    76365200      9.25      9.92     9.23       9.90   \n",
              "1715      20.969999    52393000      9.59      9.65     9.37       9.62   \n",
              "1716      20.600000    49835000      9.54      9.65     9.38       9.53   \n",
              "1717      21.090000    53866600      9.63      9.71     9.44       9.66   \n",
              "\n",
              "      USO_Adj Close  USO_Volume  \n",
              "1713           9.29    21598200  \n",
              "1714           9.90    40978800  \n",
              "1715           9.62    36578700  \n",
              "1716           9.53    22803400  \n",
              "1717           9.66    28417400  \n",
              "\n",
              "[5 rows x 81 columns]"
            ],
            "text/html": [
              "\n",
              "  <div id=\"df-ae376d9f-5381-4708-bcb7-0c87ab1f4662\">\n",
              "    <div class=\"colab-df-container\">\n",
              "      <div>\n",
              "<style scoped>\n",
              "    .dataframe tbody tr th:only-of-type {\n",
              "        vertical-align: middle;\n",
              "    }\n",
              "\n",
              "    .dataframe tbody tr th {\n",
              "        vertical-align: top;\n",
              "    }\n",
              "\n",
              "    .dataframe thead th {\n",
              "        text-align: right;\n",
              "    }\n",
              "</style>\n",
              "<table border=\"1\" class=\"dataframe\">\n",
              "  <thead>\n",
              "    <tr style=\"text-align: right;\">\n",
              "      <th></th>\n",
              "      <th>Date</th>\n",
              "      <th>Open</th>\n",
              "      <th>High</th>\n",
              "      <th>Low</th>\n",
              "      <th>Close</th>\n",
              "      <th>Adj Close</th>\n",
              "      <th>Volume</th>\n",
              "      <th>SP_open</th>\n",
              "      <th>SP_high</th>\n",
              "      <th>SP_low</th>\n",
              "      <th>...</th>\n",
              "      <th>GDX_Low</th>\n",
              "      <th>GDX_Close</th>\n",
              "      <th>GDX_Adj Close</th>\n",
              "      <th>GDX_Volume</th>\n",
              "      <th>USO_Open</th>\n",
              "      <th>USO_High</th>\n",
              "      <th>USO_Low</th>\n",
              "      <th>USO_Close</th>\n",
              "      <th>USO_Adj Close</th>\n",
              "      <th>USO_Volume</th>\n",
              "    </tr>\n",
              "  </thead>\n",
              "  <tbody>\n",
              "    <tr>\n",
              "      <th>1713</th>\n",
              "      <td>24-12-2018</td>\n",
              "      <td>119.570000</td>\n",
              "      <td>120.139999</td>\n",
              "      <td>119.570000</td>\n",
              "      <td>120.019997</td>\n",
              "      <td>120.019997</td>\n",
              "      <td>9736400</td>\n",
              "      <td>239.039993</td>\n",
              "      <td>240.839996</td>\n",
              "      <td>234.270004</td>\n",
              "      <td>...</td>\n",
              "      <td>20.650000</td>\n",
              "      <td>21.090000</td>\n",
              "      <td>21.090000</td>\n",
              "      <td>60507000</td>\n",
              "      <td>9.49</td>\n",
              "      <td>9.52</td>\n",
              "      <td>9.28</td>\n",
              "      <td>9.29</td>\n",
              "      <td>9.29</td>\n",
              "      <td>21598200</td>\n",
              "    </tr>\n",
              "    <tr>\n",
              "      <th>1714</th>\n",
              "      <td>26-12-2018</td>\n",
              "      <td>120.620003</td>\n",
              "      <td>121.000000</td>\n",
              "      <td>119.570000</td>\n",
              "      <td>119.660004</td>\n",
              "      <td>119.660004</td>\n",
              "      <td>14293500</td>\n",
              "      <td>235.970001</td>\n",
              "      <td>246.179993</td>\n",
              "      <td>233.759995</td>\n",
              "      <td>...</td>\n",
              "      <td>20.530001</td>\n",
              "      <td>20.620001</td>\n",
              "      <td>20.620001</td>\n",
              "      <td>76365200</td>\n",
              "      <td>9.25</td>\n",
              "      <td>9.92</td>\n",
              "      <td>9.23</td>\n",
              "      <td>9.90</td>\n",
              "      <td>9.90</td>\n",
              "      <td>40978800</td>\n",
              "    </tr>\n",
              "    <tr>\n",
              "      <th>1715</th>\n",
              "      <td>27-12-2018</td>\n",
              "      <td>120.570000</td>\n",
              "      <td>120.900002</td>\n",
              "      <td>120.139999</td>\n",
              "      <td>120.570000</td>\n",
              "      <td>120.570000</td>\n",
              "      <td>11874400</td>\n",
              "      <td>242.570007</td>\n",
              "      <td>248.289993</td>\n",
              "      <td>238.960007</td>\n",
              "      <td>...</td>\n",
              "      <td>20.700001</td>\n",
              "      <td>20.969999</td>\n",
              "      <td>20.969999</td>\n",
              "      <td>52393000</td>\n",
              "      <td>9.59</td>\n",
              "      <td>9.65</td>\n",
              "      <td>9.37</td>\n",
              "      <td>9.62</td>\n",
              "      <td>9.62</td>\n",
              "      <td>36578700</td>\n",
              "    </tr>\n",
              "    <tr>\n",
              "      <th>1716</th>\n",
              "      <td>28-12-2018</td>\n",
              "      <td>120.800003</td>\n",
              "      <td>121.080002</td>\n",
              "      <td>120.720001</td>\n",
              "      <td>121.059998</td>\n",
              "      <td>121.059998</td>\n",
              "      <td>6864700</td>\n",
              "      <td>249.580002</td>\n",
              "      <td>251.399994</td>\n",
              "      <td>246.449997</td>\n",
              "      <td>...</td>\n",
              "      <td>20.570000</td>\n",
              "      <td>20.600000</td>\n",
              "      <td>20.600000</td>\n",
              "      <td>49835000</td>\n",
              "      <td>9.54</td>\n",
              "      <td>9.65</td>\n",
              "      <td>9.38</td>\n",
              "      <td>9.53</td>\n",
              "      <td>9.53</td>\n",
              "      <td>22803400</td>\n",
              "    </tr>\n",
              "    <tr>\n",
              "      <th>1717</th>\n",
              "      <td>31-12-2018</td>\n",
              "      <td>120.980003</td>\n",
              "      <td>121.260002</td>\n",
              "      <td>120.830002</td>\n",
              "      <td>121.250000</td>\n",
              "      <td>121.250000</td>\n",
              "      <td>8449400</td>\n",
              "      <td>249.559998</td>\n",
              "      <td>250.190002</td>\n",
              "      <td>247.470001</td>\n",
              "      <td>...</td>\n",
              "      <td>20.559999</td>\n",
              "      <td>21.090000</td>\n",
              "      <td>21.090000</td>\n",
              "      <td>53866600</td>\n",
              "      <td>9.63</td>\n",
              "      <td>9.71</td>\n",
              "      <td>9.44</td>\n",
              "      <td>9.66</td>\n",
              "      <td>9.66</td>\n",
              "      <td>28417400</td>\n",
              "    </tr>\n",
              "  </tbody>\n",
              "</table>\n",
              "<p>5 rows × 81 columns</p>\n",
              "</div>\n",
              "      <button class=\"colab-df-convert\" onclick=\"convertToInteractive('df-ae376d9f-5381-4708-bcb7-0c87ab1f4662')\"\n",
              "              title=\"Convert this dataframe to an interactive table.\"\n",
              "              style=\"display:none;\">\n",
              "        \n",
              "  <svg xmlns=\"http://www.w3.org/2000/svg\" height=\"24px\"viewBox=\"0 0 24 24\"\n",
              "       width=\"24px\">\n",
              "    <path d=\"M0 0h24v24H0V0z\" fill=\"none\"/>\n",
              "    <path d=\"M18.56 5.44l.94 2.06.94-2.06 2.06-.94-2.06-.94-.94-2.06-.94 2.06-2.06.94zm-11 1L8.5 8.5l.94-2.06 2.06-.94-2.06-.94L8.5 2.5l-.94 2.06-2.06.94zm10 10l.94 2.06.94-2.06 2.06-.94-2.06-.94-.94-2.06-.94 2.06-2.06.94z\"/><path d=\"M17.41 7.96l-1.37-1.37c-.4-.4-.92-.59-1.43-.59-.52 0-1.04.2-1.43.59L10.3 9.45l-7.72 7.72c-.78.78-.78 2.05 0 2.83L4 21.41c.39.39.9.59 1.41.59.51 0 1.02-.2 1.41-.59l7.78-7.78 2.81-2.81c.8-.78.8-2.07 0-2.86zM5.41 20L4 18.59l7.72-7.72 1.47 1.35L5.41 20z\"/>\n",
              "  </svg>\n",
              "      </button>\n",
              "      \n",
              "  <style>\n",
              "    .colab-df-container {\n",
              "      display:flex;\n",
              "      flex-wrap:wrap;\n",
              "      gap: 12px;\n",
              "    }\n",
              "\n",
              "    .colab-df-convert {\n",
              "      background-color: #E8F0FE;\n",
              "      border: none;\n",
              "      border-radius: 50%;\n",
              "      cursor: pointer;\n",
              "      display: none;\n",
              "      fill: #1967D2;\n",
              "      height: 32px;\n",
              "      padding: 0 0 0 0;\n",
              "      width: 32px;\n",
              "    }\n",
              "\n",
              "    .colab-df-convert:hover {\n",
              "      background-color: #E2EBFA;\n",
              "      box-shadow: 0px 1px 2px rgba(60, 64, 67, 0.3), 0px 1px 3px 1px rgba(60, 64, 67, 0.15);\n",
              "      fill: #174EA6;\n",
              "    }\n",
              "\n",
              "    [theme=dark] .colab-df-convert {\n",
              "      background-color: #3B4455;\n",
              "      fill: #D2E3FC;\n",
              "    }\n",
              "\n",
              "    [theme=dark] .colab-df-convert:hover {\n",
              "      background-color: #434B5C;\n",
              "      box-shadow: 0px 1px 3px 1px rgba(0, 0, 0, 0.15);\n",
              "      filter: drop-shadow(0px 1px 2px rgba(0, 0, 0, 0.3));\n",
              "      fill: #FFFFFF;\n",
              "    }\n",
              "  </style>\n",
              "\n",
              "      <script>\n",
              "        const buttonEl =\n",
              "          document.querySelector('#df-ae376d9f-5381-4708-bcb7-0c87ab1f4662 button.colab-df-convert');\n",
              "        buttonEl.style.display =\n",
              "          google.colab.kernel.accessAllowed ? 'block' : 'none';\n",
              "\n",
              "        async function convertToInteractive(key) {\n",
              "          const element = document.querySelector('#df-ae376d9f-5381-4708-bcb7-0c87ab1f4662');\n",
              "          const dataTable =\n",
              "            await google.colab.kernel.invokeFunction('convertToInteractive',\n",
              "                                                     [key], {});\n",
              "          if (!dataTable) return;\n",
              "\n",
              "          const docLinkHtml = 'Like what you see? Visit the ' +\n",
              "            '<a target=\"_blank\" href=https://colab.research.google.com/notebooks/data_table.ipynb>data table notebook</a>'\n",
              "            + ' to learn more about interactive tables.';\n",
              "          element.innerHTML = '';\n",
              "          dataTable['output_type'] = 'display_data';\n",
              "          await google.colab.output.renderOutput(dataTable, element);\n",
              "          const docLink = document.createElement('div');\n",
              "          docLink.innerHTML = docLinkHtml;\n",
              "          element.appendChild(docLink);\n",
              "        }\n",
              "      </script>\n",
              "    </div>\n",
              "  </div>\n",
              "  "
            ]
          },
          "metadata": {},
          "execution_count": 10
        }
      ]
    },
    {
      "cell_type": "markdown",
      "source": [
        "Describe the data"
      ],
      "metadata": {
        "id": "-cZHuvcFUGM0"
      }
    },
    {
      "cell_type": "code",
      "source": [
        "data.describe()"
      ],
      "metadata": {
        "colab": {
          "base_uri": "https://localhost:8080/",
          "height": 411
        },
        "id": "zQf-44hpUJKV",
        "outputId": "f9cc2990-183b-4e8a-ee9a-f7ddf46e26fe"
      },
      "execution_count": null,
      "outputs": [
        {
          "output_type": "execute_result",
          "data": {
            "text/plain": [
              "              Open         High          Low        Close    Adj Close  \\\n",
              "count  1718.000000  1718.000000  1718.000000  1718.000000  1718.000000   \n",
              "mean    127.323434   127.854237   126.777695   127.319482   127.319482   \n",
              "std      17.526993    17.631189    17.396513    17.536269    17.536269   \n",
              "min     100.919998   100.989998   100.230003   100.500000   100.500000   \n",
              "25%     116.220001   116.540001   115.739998   116.052502   116.052502   \n",
              "50%     121.915001   122.325001   121.369999   121.795002   121.795002   \n",
              "75%     128.427494   129.087498   127.840001   128.470001   128.470001   \n",
              "max     173.199997   174.070007   172.919998   173.610001   173.610001   \n",
              "\n",
              "             Volume      SP_open      SP_high       SP_low     SP_close  ...  \\\n",
              "count  1.718000e+03  1718.000000  1718.000000  1718.000000  1718.000000  ...   \n",
              "mean   8.446327e+06   204.490023   205.372637   203.487014   204.491222  ...   \n",
              "std    4.920731e+06    43.831928    43.974644    43.618940    43.776999  ...   \n",
              "min    1.501600e+06   122.059998   122.320000   120.029999   120.290001  ...   \n",
              "25%    5.412925e+06   170.392498   170.962505   169.577499   170.397500  ...   \n",
              "50%    7.483900e+06   205.464996   206.459999   204.430000   205.529999  ...   \n",
              "75%    1.020795e+07   237.292500   237.722500   236.147503   236.889996  ...   \n",
              "max    9.380420e+07   293.089996   293.940002   291.809998   293.579987  ...   \n",
              "\n",
              "           GDX_Low    GDX_Close  GDX_Adj Close    GDX_Volume     USO_Open  \\\n",
              "count  1718.000000  1718.000000    1718.000000  1.718000e+03  1718.000000   \n",
              "mean     26.384575    26.715012      25.924624  4.356515e+07    22.113417   \n",
              "std      10.490908    10.603110       9.886570  2.909151e+07    11.431056   \n",
              "min      12.400000    12.470000      12.269618  4.729000e+06     7.820000   \n",
              "25%      20.355000    20.585000      20.180950  2.259968e+07    11.420000   \n",
              "50%      22.870001    23.054999      22.677604  3.730465e+07    16.450000   \n",
              "75%      26.797500    27.317500      26.478154  5.697055e+07    34.419998   \n",
              "max      56.770000    57.470001      54.617039  2.321536e+08    41.599998   \n",
              "\n",
              "          USO_High      USO_Low    USO_Close  USO_Adj Close    USO_Volume  \n",
              "count  1718.000000  1718.000000  1718.000000    1718.000000  1.718000e+03  \n",
              "mean     22.307148    21.904657    22.109051      22.109051  1.922313e+07  \n",
              "std      11.478671    11.373997    11.432787      11.432787  1.575743e+07  \n",
              "min       8.030000     7.670000     7.960000       7.960000  1.035100e+06  \n",
              "25%      11.500000    11.300000    11.392500      11.392500  6.229500e+06  \n",
              "50%      16.635000    16.040000    16.345000      16.345000  1.613015e+07  \n",
              "75%      34.667499    34.110000    34.417499      34.417499  2.672375e+07  \n",
              "max      42.299999    41.299999    42.009998      42.009998  1.102657e+08  \n",
              "\n",
              "[8 rows x 80 columns]"
            ],
            "text/html": [
              "\n",
              "  <div id=\"df-4895e6c2-3804-4f20-a355-27a12fd8d065\">\n",
              "    <div class=\"colab-df-container\">\n",
              "      <div>\n",
              "<style scoped>\n",
              "    .dataframe tbody tr th:only-of-type {\n",
              "        vertical-align: middle;\n",
              "    }\n",
              "\n",
              "    .dataframe tbody tr th {\n",
              "        vertical-align: top;\n",
              "    }\n",
              "\n",
              "    .dataframe thead th {\n",
              "        text-align: right;\n",
              "    }\n",
              "</style>\n",
              "<table border=\"1\" class=\"dataframe\">\n",
              "  <thead>\n",
              "    <tr style=\"text-align: right;\">\n",
              "      <th></th>\n",
              "      <th>Open</th>\n",
              "      <th>High</th>\n",
              "      <th>Low</th>\n",
              "      <th>Close</th>\n",
              "      <th>Adj Close</th>\n",
              "      <th>Volume</th>\n",
              "      <th>SP_open</th>\n",
              "      <th>SP_high</th>\n",
              "      <th>SP_low</th>\n",
              "      <th>SP_close</th>\n",
              "      <th>...</th>\n",
              "      <th>GDX_Low</th>\n",
              "      <th>GDX_Close</th>\n",
              "      <th>GDX_Adj Close</th>\n",
              "      <th>GDX_Volume</th>\n",
              "      <th>USO_Open</th>\n",
              "      <th>USO_High</th>\n",
              "      <th>USO_Low</th>\n",
              "      <th>USO_Close</th>\n",
              "      <th>USO_Adj Close</th>\n",
              "      <th>USO_Volume</th>\n",
              "    </tr>\n",
              "  </thead>\n",
              "  <tbody>\n",
              "    <tr>\n",
              "      <th>count</th>\n",
              "      <td>1718.000000</td>\n",
              "      <td>1718.000000</td>\n",
              "      <td>1718.000000</td>\n",
              "      <td>1718.000000</td>\n",
              "      <td>1718.000000</td>\n",
              "      <td>1.718000e+03</td>\n",
              "      <td>1718.000000</td>\n",
              "      <td>1718.000000</td>\n",
              "      <td>1718.000000</td>\n",
              "      <td>1718.000000</td>\n",
              "      <td>...</td>\n",
              "      <td>1718.000000</td>\n",
              "      <td>1718.000000</td>\n",
              "      <td>1718.000000</td>\n",
              "      <td>1.718000e+03</td>\n",
              "      <td>1718.000000</td>\n",
              "      <td>1718.000000</td>\n",
              "      <td>1718.000000</td>\n",
              "      <td>1718.000000</td>\n",
              "      <td>1718.000000</td>\n",
              "      <td>1.718000e+03</td>\n",
              "    </tr>\n",
              "    <tr>\n",
              "      <th>mean</th>\n",
              "      <td>127.323434</td>\n",
              "      <td>127.854237</td>\n",
              "      <td>126.777695</td>\n",
              "      <td>127.319482</td>\n",
              "      <td>127.319482</td>\n",
              "      <td>8.446327e+06</td>\n",
              "      <td>204.490023</td>\n",
              "      <td>205.372637</td>\n",
              "      <td>203.487014</td>\n",
              "      <td>204.491222</td>\n",
              "      <td>...</td>\n",
              "      <td>26.384575</td>\n",
              "      <td>26.715012</td>\n",
              "      <td>25.924624</td>\n",
              "      <td>4.356515e+07</td>\n",
              "      <td>22.113417</td>\n",
              "      <td>22.307148</td>\n",
              "      <td>21.904657</td>\n",
              "      <td>22.109051</td>\n",
              "      <td>22.109051</td>\n",
              "      <td>1.922313e+07</td>\n",
              "    </tr>\n",
              "    <tr>\n",
              "      <th>std</th>\n",
              "      <td>17.526993</td>\n",
              "      <td>17.631189</td>\n",
              "      <td>17.396513</td>\n",
              "      <td>17.536269</td>\n",
              "      <td>17.536269</td>\n",
              "      <td>4.920731e+06</td>\n",
              "      <td>43.831928</td>\n",
              "      <td>43.974644</td>\n",
              "      <td>43.618940</td>\n",
              "      <td>43.776999</td>\n",
              "      <td>...</td>\n",
              "      <td>10.490908</td>\n",
              "      <td>10.603110</td>\n",
              "      <td>9.886570</td>\n",
              "      <td>2.909151e+07</td>\n",
              "      <td>11.431056</td>\n",
              "      <td>11.478671</td>\n",
              "      <td>11.373997</td>\n",
              "      <td>11.432787</td>\n",
              "      <td>11.432787</td>\n",
              "      <td>1.575743e+07</td>\n",
              "    </tr>\n",
              "    <tr>\n",
              "      <th>min</th>\n",
              "      <td>100.919998</td>\n",
              "      <td>100.989998</td>\n",
              "      <td>100.230003</td>\n",
              "      <td>100.500000</td>\n",
              "      <td>100.500000</td>\n",
              "      <td>1.501600e+06</td>\n",
              "      <td>122.059998</td>\n",
              "      <td>122.320000</td>\n",
              "      <td>120.029999</td>\n",
              "      <td>120.290001</td>\n",
              "      <td>...</td>\n",
              "      <td>12.400000</td>\n",
              "      <td>12.470000</td>\n",
              "      <td>12.269618</td>\n",
              "      <td>4.729000e+06</td>\n",
              "      <td>7.820000</td>\n",
              "      <td>8.030000</td>\n",
              "      <td>7.670000</td>\n",
              "      <td>7.960000</td>\n",
              "      <td>7.960000</td>\n",
              "      <td>1.035100e+06</td>\n",
              "    </tr>\n",
              "    <tr>\n",
              "      <th>25%</th>\n",
              "      <td>116.220001</td>\n",
              "      <td>116.540001</td>\n",
              "      <td>115.739998</td>\n",
              "      <td>116.052502</td>\n",
              "      <td>116.052502</td>\n",
              "      <td>5.412925e+06</td>\n",
              "      <td>170.392498</td>\n",
              "      <td>170.962505</td>\n",
              "      <td>169.577499</td>\n",
              "      <td>170.397500</td>\n",
              "      <td>...</td>\n",
              "      <td>20.355000</td>\n",
              "      <td>20.585000</td>\n",
              "      <td>20.180950</td>\n",
              "      <td>2.259968e+07</td>\n",
              "      <td>11.420000</td>\n",
              "      <td>11.500000</td>\n",
              "      <td>11.300000</td>\n",
              "      <td>11.392500</td>\n",
              "      <td>11.392500</td>\n",
              "      <td>6.229500e+06</td>\n",
              "    </tr>\n",
              "    <tr>\n",
              "      <th>50%</th>\n",
              "      <td>121.915001</td>\n",
              "      <td>122.325001</td>\n",
              "      <td>121.369999</td>\n",
              "      <td>121.795002</td>\n",
              "      <td>121.795002</td>\n",
              "      <td>7.483900e+06</td>\n",
              "      <td>205.464996</td>\n",
              "      <td>206.459999</td>\n",
              "      <td>204.430000</td>\n",
              "      <td>205.529999</td>\n",
              "      <td>...</td>\n",
              "      <td>22.870001</td>\n",
              "      <td>23.054999</td>\n",
              "      <td>22.677604</td>\n",
              "      <td>3.730465e+07</td>\n",
              "      <td>16.450000</td>\n",
              "      <td>16.635000</td>\n",
              "      <td>16.040000</td>\n",
              "      <td>16.345000</td>\n",
              "      <td>16.345000</td>\n",
              "      <td>1.613015e+07</td>\n",
              "    </tr>\n",
              "    <tr>\n",
              "      <th>75%</th>\n",
              "      <td>128.427494</td>\n",
              "      <td>129.087498</td>\n",
              "      <td>127.840001</td>\n",
              "      <td>128.470001</td>\n",
              "      <td>128.470001</td>\n",
              "      <td>1.020795e+07</td>\n",
              "      <td>237.292500</td>\n",
              "      <td>237.722500</td>\n",
              "      <td>236.147503</td>\n",
              "      <td>236.889996</td>\n",
              "      <td>...</td>\n",
              "      <td>26.797500</td>\n",
              "      <td>27.317500</td>\n",
              "      <td>26.478154</td>\n",
              "      <td>5.697055e+07</td>\n",
              "      <td>34.419998</td>\n",
              "      <td>34.667499</td>\n",
              "      <td>34.110000</td>\n",
              "      <td>34.417499</td>\n",
              "      <td>34.417499</td>\n",
              "      <td>2.672375e+07</td>\n",
              "    </tr>\n",
              "    <tr>\n",
              "      <th>max</th>\n",
              "      <td>173.199997</td>\n",
              "      <td>174.070007</td>\n",
              "      <td>172.919998</td>\n",
              "      <td>173.610001</td>\n",
              "      <td>173.610001</td>\n",
              "      <td>9.380420e+07</td>\n",
              "      <td>293.089996</td>\n",
              "      <td>293.940002</td>\n",
              "      <td>291.809998</td>\n",
              "      <td>293.579987</td>\n",
              "      <td>...</td>\n",
              "      <td>56.770000</td>\n",
              "      <td>57.470001</td>\n",
              "      <td>54.617039</td>\n",
              "      <td>2.321536e+08</td>\n",
              "      <td>41.599998</td>\n",
              "      <td>42.299999</td>\n",
              "      <td>41.299999</td>\n",
              "      <td>42.009998</td>\n",
              "      <td>42.009998</td>\n",
              "      <td>1.102657e+08</td>\n",
              "    </tr>\n",
              "  </tbody>\n",
              "</table>\n",
              "<p>8 rows × 80 columns</p>\n",
              "</div>\n",
              "      <button class=\"colab-df-convert\" onclick=\"convertToInteractive('df-4895e6c2-3804-4f20-a355-27a12fd8d065')\"\n",
              "              title=\"Convert this dataframe to an interactive table.\"\n",
              "              style=\"display:none;\">\n",
              "        \n",
              "  <svg xmlns=\"http://www.w3.org/2000/svg\" height=\"24px\"viewBox=\"0 0 24 24\"\n",
              "       width=\"24px\">\n",
              "    <path d=\"M0 0h24v24H0V0z\" fill=\"none\"/>\n",
              "    <path d=\"M18.56 5.44l.94 2.06.94-2.06 2.06-.94-2.06-.94-.94-2.06-.94 2.06-2.06.94zm-11 1L8.5 8.5l.94-2.06 2.06-.94-2.06-.94L8.5 2.5l-.94 2.06-2.06.94zm10 10l.94 2.06.94-2.06 2.06-.94-2.06-.94-.94-2.06-.94 2.06-2.06.94z\"/><path d=\"M17.41 7.96l-1.37-1.37c-.4-.4-.92-.59-1.43-.59-.52 0-1.04.2-1.43.59L10.3 9.45l-7.72 7.72c-.78.78-.78 2.05 0 2.83L4 21.41c.39.39.9.59 1.41.59.51 0 1.02-.2 1.41-.59l7.78-7.78 2.81-2.81c.8-.78.8-2.07 0-2.86zM5.41 20L4 18.59l7.72-7.72 1.47 1.35L5.41 20z\"/>\n",
              "  </svg>\n",
              "      </button>\n",
              "      \n",
              "  <style>\n",
              "    .colab-df-container {\n",
              "      display:flex;\n",
              "      flex-wrap:wrap;\n",
              "      gap: 12px;\n",
              "    }\n",
              "\n",
              "    .colab-df-convert {\n",
              "      background-color: #E8F0FE;\n",
              "      border: none;\n",
              "      border-radius: 50%;\n",
              "      cursor: pointer;\n",
              "      display: none;\n",
              "      fill: #1967D2;\n",
              "      height: 32px;\n",
              "      padding: 0 0 0 0;\n",
              "      width: 32px;\n",
              "    }\n",
              "\n",
              "    .colab-df-convert:hover {\n",
              "      background-color: #E2EBFA;\n",
              "      box-shadow: 0px 1px 2px rgba(60, 64, 67, 0.3), 0px 1px 3px 1px rgba(60, 64, 67, 0.15);\n",
              "      fill: #174EA6;\n",
              "    }\n",
              "\n",
              "    [theme=dark] .colab-df-convert {\n",
              "      background-color: #3B4455;\n",
              "      fill: #D2E3FC;\n",
              "    }\n",
              "\n",
              "    [theme=dark] .colab-df-convert:hover {\n",
              "      background-color: #434B5C;\n",
              "      box-shadow: 0px 1px 3px 1px rgba(0, 0, 0, 0.15);\n",
              "      filter: drop-shadow(0px 1px 2px rgba(0, 0, 0, 0.3));\n",
              "      fill: #FFFFFF;\n",
              "    }\n",
              "  </style>\n",
              "\n",
              "      <script>\n",
              "        const buttonEl =\n",
              "          document.querySelector('#df-4895e6c2-3804-4f20-a355-27a12fd8d065 button.colab-df-convert');\n",
              "        buttonEl.style.display =\n",
              "          google.colab.kernel.accessAllowed ? 'block' : 'none';\n",
              "\n",
              "        async function convertToInteractive(key) {\n",
              "          const element = document.querySelector('#df-4895e6c2-3804-4f20-a355-27a12fd8d065');\n",
              "          const dataTable =\n",
              "            await google.colab.kernel.invokeFunction('convertToInteractive',\n",
              "                                                     [key], {});\n",
              "          if (!dataTable) return;\n",
              "\n",
              "          const docLinkHtml = 'Like what you see? Visit the ' +\n",
              "            '<a target=\"_blank\" href=https://colab.research.google.com/notebooks/data_table.ipynb>data table notebook</a>'\n",
              "            + ' to learn more about interactive tables.';\n",
              "          element.innerHTML = '';\n",
              "          dataTable['output_type'] = 'display_data';\n",
              "          await google.colab.output.renderOutput(dataTable, element);\n",
              "          const docLink = document.createElement('div');\n",
              "          docLink.innerHTML = docLinkHtml;\n",
              "          element.appendChild(docLink);\n",
              "        }\n",
              "      </script>\n",
              "    </div>\n",
              "  </div>\n",
              "  "
            ]
          },
          "metadata": {},
          "execution_count": 11
        }
      ]
    },
    {
      "cell_type": "markdown",
      "source": [
        "Check the columns if there is null value or not"
      ],
      "metadata": {
        "id": "Eg1V9NxFUAnd"
      }
    },
    {
      "cell_type": "code",
      "source": [
        "data.isnull().sum()"
      ],
      "metadata": {
        "colab": {
          "base_uri": "https://localhost:8080/"
        },
        "id": "Wf8tk4TATYx9",
        "outputId": "2f4bc96c-640c-4bfd-85dc-a056d7bdb814"
      },
      "execution_count": null,
      "outputs": [
        {
          "output_type": "execute_result",
          "data": {
            "text/plain": [
              "Date             0\n",
              "Open             0\n",
              "High             0\n",
              "Low              0\n",
              "Close            0\n",
              "                ..\n",
              "USO_High         0\n",
              "USO_Low          0\n",
              "USO_Close        0\n",
              "USO_Adj Close    0\n",
              "USO_Volume       0\n",
              "Length: 81, dtype: int64"
            ]
          },
          "metadata": {},
          "execution_count": 12
        }
      ]
    },
    {
      "cell_type": "markdown",
      "source": [],
      "metadata": {
        "id": "07Tzd0Y3roCU"
      }
    },
    {
      "cell_type": "code",
      "source": [
        "type(data)"
      ],
      "metadata": {
        "colab": {
          "base_uri": "https://localhost:8080/"
        },
        "id": "acL1uwhlUUNC",
        "outputId": "b97e0187-9054-4a27-a74e-2efc08907023"
      },
      "execution_count": null,
      "outputs": [
        {
          "output_type": "execute_result",
          "data": {
            "text/plain": [
              "pandas.core.frame.DataFrame"
            ]
          },
          "metadata": {},
          "execution_count": 13
        }
      ]
    },
    {
      "cell_type": "markdown",
      "source": [
        "Plot for open Prices , from here we can predict the prices\n"
      ],
      "metadata": {
        "id": "bfIL7wtyrpYx"
      }
    },
    {
      "cell_type": "code",
      "source": [
        "opn = data[['Open']]"
      ],
      "metadata": {
        "id": "p-aABRVlpt3p"
      },
      "execution_count": null,
      "outputs": []
    },
    {
      "cell_type": "code",
      "source": [
        "\n",
        "opn.plot()"
      ],
      "metadata": {
        "colab": {
          "base_uri": "https://localhost:8080/",
          "height": 282
        },
        "id": "EtQwq4rUr06E",
        "outputId": "3268760c-ce14-4e75-b190-06828aee097e"
      },
      "execution_count": null,
      "outputs": [
        {
          "output_type": "execute_result",
          "data": {
            "text/plain": [
              "<matplotlib.axes._subplots.AxesSubplot at 0x7f3b29241b10>"
            ]
          },
          "metadata": {},
          "execution_count": 15
        },
        {
          "output_type": "display_data",
          "data": {
            "text/plain": [
              "<Figure size 432x288 with 1 Axes>"
            ],
            "image/png": "[encoded data removed]"
          },
          "metadata": {
            "needs_background": "light"
          }
        }
      ]
    },
    {
      "cell_type": "markdown",
      "source": [
        "Import Library"
      ],
      "metadata": {
        "id": "BaCdvG-TsRc8"
      }
    },
    {
      "cell_type": "code",
      "source": [
        "import matplotlib.pyplot as plt"
      ],
      "metadata": {
        "id": "cQsoM_Qsr5Ur"
      },
      "execution_count": null,
      "outputs": []
    },
    {
      "cell_type": "markdown",
      "source": [
        "Convert open price into 2-D array using numpy"
      ],
      "metadata": {
        "id": "AKZxyUxOsbLR"
      }
    },
    {
      "cell_type": "code",
      "source": [
        "open_array = opn.values"
      ],
      "metadata": {
        "id": "BTu0SohOsZQB"
      },
      "execution_count": null,
      "outputs": []
    },
    {
      "cell_type": "code",
      "source": [
        "open_array"
      ],
      "metadata": {
        "colab": {
          "base_uri": "https://localhost:8080/"
        },
        "id": "FbJVsA37skF_",
        "outputId": "19caad18-d2a7-4857-8f55-9a2ec1e38ab4"
      },
      "execution_count": null,
      "outputs": [
        {
          "output_type": "execute_result",
          "data": {
            "text/plain": [
              "array([[154.740005],\n",
              "       [154.309998],\n",
              "       [155.479996],\n",
              "       ...,\n",
              "       [120.57    ],\n",
              "       [120.800003],\n",
              "       [120.980003]])"
            ]
          },
          "metadata": {},
          "execution_count": 19
        }
      ]
    },
    {
      "cell_type": "markdown",
      "source": [
        "Plot the open_array values using matplotlib"
      ],
      "metadata": {
        "id": "UAEdTY-Gsr-4"
      }
    },
    {
      "cell_type": "code",
      "source": [
        "plt.plot(open_array)"
      ],
      "metadata": {
        "colab": {
          "base_uri": "https://localhost:8080/",
          "height": 282
        },
        "id": "VQx3QNF2smpl",
        "outputId": "e8cdeed3-1f8f-4d9d-b2a0-9ed8b08f1756"
      },
      "execution_count": null,
      "outputs": [
        {
          "output_type": "execute_result",
          "data": {
            "text/plain": [
              "[<matplotlib.lines.Line2D at 0x7f3b28604a10>]"
            ]
          },
          "metadata": {},
          "execution_count": 20
        },
        {
          "output_type": "display_data",
          "data": {
            "text/plain": [
              "<Figure size 432x288 with 1 Axes>"
            ],
            "image/png": "[encoded data removed]"
          },
          "metadata": {
            "needs_background": "light"
          }
        }
      ]
    },
    {
      "cell_type": "code",
      "source": [
        "from sklearn.preprocessing import MinMaxScaler"
      ],
      "metadata": {
        "id": "OhLl6N-ksy7f"
      },
      "execution_count": null,
      "outputs": []
    },
    {
      "cell_type": "markdown",
      "source": [
        "**Now** MinMax scaler is used. Scaling means if we have more than x axis and we have to predict y values. Then MinMax scaler estimate larger value rather than smaller one."
      ],
      "metadata": {
        "id": "92LcJ3zytVbr"
      }
    },
    {
      "cell_type": "markdown",
      "source": [
        "Scaling simply means Normalise the data between 0 and 1\n"
      ],
      "metadata": {
        "id": "PmJPtJDAt2WH"
      }
    },
    {
      "cell_type": "code",
      "source": [
        "normalise = MinMaxScaler(feature_range = (0,1))\n",
        "open_arrayscaled = normalise.fit_transform(np.array(open_array).reshape(-1,1))"
      ],
      "metadata": {
        "id": "YSUpF7P5t2A3"
      },
      "execution_count": null,
      "outputs": []
    },
    {
      "cell_type": "code",
      "source": [
        "len(open_array),len(open_arrayscaled)"
      ],
      "metadata": {
        "colab": {
          "base_uri": "https://localhost:8080/"
        },
        "id": "TsMM6QO6tTmN",
        "outputId": "7a011c44-f1dd-4de5-dff3-440b37142322"
      },
      "execution_count": null,
      "outputs": [
        {
          "output_type": "execute_result",
          "data": {
            "text/plain": [
              "(1718, 1718)"
            ]
          },
          "metadata": {},
          "execution_count": 25
        }
      ]
    },
    {
      "cell_type": "markdown",
      "source": [
        "Define train and test data"
      ],
      "metadata": {
        "id": "6hQUICg5yH6H"
      }
    },
    {
      "cell_type": "code",
      "source": [
        "train_size = int(len(open_arrayscaled)*0.70)\n",
        "test_size = len(open_arrayscaled)  - train_size"
      ],
      "metadata": {
        "id": "gDv2jcq_vb2N"
      },
      "execution_count": null,
      "outputs": []
    },
    {
      "cell_type": "markdown",
      "source": [
        "Define sizes"
      ],
      "metadata": {
        "id": "--jOehWYyp6c"
      }
    },
    {
      "cell_type": "code",
      "source": [
        "train_size"
      ],
      "metadata": {
        "colab": {
          "base_uri": "https://localhost:8080/"
        },
        "id": "V8EBMXjKvbtH",
        "outputId": "c5f5ede6-8d8b-4df9-c362-a20df7360a8c"
      },
      "execution_count": null,
      "outputs": [
        {
          "output_type": "execute_result",
          "data": {
            "text/plain": [
              "1202"
            ]
          },
          "metadata": {},
          "execution_count": 122
        }
      ]
    },
    {
      "cell_type": "code",
      "source": [
        "test_size"
      ],
      "metadata": {
        "colab": {
          "base_uri": "https://localhost:8080/"
        },
        "id": "uki_z-J_yxQu",
        "outputId": "617dd3a0-02e4-4214-d353-6a3d40b583a3"
      },
      "execution_count": null,
      "outputs": [
        {
          "output_type": "execute_result",
          "data": {
            "text/plain": [
              "516"
            ]
          },
          "metadata": {},
          "execution_count": 123
        }
      ]
    },
    {
      "cell_type": "markdown",
      "source": [
        "Split Data into train and test dataset"
      ],
      "metadata": {
        "id": "X3fpdQs-u08o"
      }
    },
    {
      "cell_type": "code",
      "source": [
        "from sklearn.model_selection import train_test_split\n",
        "ds_train,ds_test = open_arrayscaled[:train_size,:],open_arrayscaled[train_size:len(open_arrayscaled),:1]\n",
        "print(\"length of train data:\",len(ds_train))\n",
        "print(\"length of test data:\",len(ds_test))"
      ],
      "metadata": {
        "colab": {
          "base_uri": "https://localhost:8080/"
        },
        "id": "VSQei9kguef1",
        "outputId": "da59353d-8f57-482b-e15a-da63943a4f77"
      },
      "execution_count": null,
      "outputs": [
        {
          "output_type": "stream",
          "name": "stdout",
          "text": [
            "length of train data: 1202\n",
            "length of test data: 516\n"
          ]
        }
      ]
    },
    {
      "cell_type": "markdown",
      "source": [
        "Creating dataset in time seies for LSTM model"
      ],
      "metadata": {
        "id": "B1MwtAMdwAfh"
      }
    },
    {
      "cell_type": "code",
      "source": [
        "def create_ds(dataset,step):\n",
        "  X_train,y_train = [], []\n",
        "  for i in range(len(dataset) - step -1):\n",
        "    a = dataset[i:(i+step),0]\n",
        "    X_train.append(a)\n",
        "    y_train.append(dataset[i + step,0])\n",
        "    return np.array(X_train), np.array(y_train)"
      ],
      "metadata": {
        "id": "2PRSb5dEv4jY"
      },
      "execution_count": null,
      "outputs": []
    },
    {
      "cell_type": "markdown",
      "source": [
        "Taking 70 days price as on record for training"
      ],
      "metadata": {
        "id": "p48lSAsqxcgd"
      }
    },
    {
      "cell_type": "code",
      "source": [
        "time_stamp = 100\n",
        "X_train,y_train = create_ds(ds_train,time_stamp)\n",
        "X_test,y_test = create_ds (ds_test,time_stamp)"
      ],
      "metadata": {
        "id": "6OQkxkFixcOk"
      },
      "execution_count": null,
      "outputs": []
    },
    {
      "cell_type": "code",
      "source": [
        "X_train.shape,y_train.shape"
      ],
      "metadata": {
        "colab": {
          "base_uri": "https://localhost:8080/"
        },
        "id": "8cRMV3OtwxSy",
        "outputId": "c1a428f8-2081-4032-880e-0866404d31fa"
      },
      "execution_count": null,
      "outputs": [
        {
          "output_type": "execute_result",
          "data": {
            "text/plain": [
              "((1, 100), (1,))"
            ]
          },
          "metadata": {},
          "execution_count": 127
        }
      ]
    },
    {
      "cell_type": "code",
      "source": [
        "X_test.shape,y_test.shape"
      ],
      "metadata": {
        "colab": {
          "base_uri": "https://localhost:8080/"
        },
        "id": "NsrIhC1f1ryy",
        "outputId": "b7ac7b45-4533-4f1b-ec52-0af845deb1a0"
      },
      "execution_count": null,
      "outputs": [
        {
          "output_type": "execute_result",
          "data": {
            "text/plain": [
              "((1, 100), (1,))"
            ]
          },
          "metadata": {},
          "execution_count": 128
        }
      ]
    },
    {
      "cell_type": "markdown",
      "source": [
        "Creating data to fit into the model\n"
      ],
      "metadata": {
        "id": "ns5Zg4Uk2ngo"
      }
    },
    {
      "cell_type": "code",
      "source": [
        "X_train = X_train.reshape(X_train.shape[0], X_train.shape[1],1)\n",
        "X_test = X_test.reshape(X_test.shape[0],X_test.shape[1],1)"
      ],
      "metadata": {
        "id": "JJQY6dM9116W"
      },
      "execution_count": null,
      "outputs": []
    },
    {
      "cell_type": "markdown",
      "source": [
        "Creating LSTM model using keras\n"
      ],
      "metadata": {
        "id": "o_LpItDt3A5O"
      }
    },
    {
      "cell_type": "code",
      "source": [
        "from keras.models import Sequential\n",
        "from keras.layers import Dense,LSTM"
      ],
      "metadata": {
        "id": "xWtWTLeR4cSr"
      },
      "execution_count": null,
      "outputs": []
    },
    {
      "cell_type": "code",
      "source": [
        "model = Sequential()\n",
        "model.add(LSTM (units = 50,return_sequences = True , input_shape  = (X_train.shape[1],1)))\n",
        "model. add(LSTM(units = 50 ,return_sequences =  True))\n",
        "model.add(LSTM(units = 50))\n",
        "model.add(Dense(units = 1, activation = 'linear'))\n",
        "model.summary()\n",
        "\n"
      ],
      "metadata": {
        "colab": {
          "base_uri": "https://localhost:8080/"
        },
        "id": "_gU7eF6f2_V3",
        "outputId": "c136364d-5fce-4abe-e19e-85b682960b09"
      },
      "execution_count": null,
      "outputs": [
        {
          "output_type": "stream",
          "name": "stdout",
          "text": [
            "Model: \"sequential_2\"\n",
            "_________________________________________________________________\n",
            " Layer (type)                Output Shape              Param #   \n",
            "=================================================================\n",
            " lstm_6 (LSTM)               (None, 100, 50)           10400     \n",
            "                                                                 \n",
            " lstm_7 (LSTM)               (None, 100, 50)           20200     \n",
            "                                                                 \n",
            " lstm_8 (LSTM)               (None, 50)                20200     \n",
            "                                                                 \n",
            " dense_2 (Dense)             (None, 1)                 51        \n",
            "                                                                 \n",
            "=================================================================\n",
            "Total params: 50,851\n",
            "Trainable params: 50,851\n",
            "Non-trainable params: 0\n",
            "_________________________________________________________________\n"
          ]
        }
      ]
    },
    {
      "cell_type": "markdown",
      "source": [
        "Training the model with adam optimizer and maen squared error loss function"
      ],
      "metadata": {
        "id": "2ZsNtKvT4zEL"
      }
    },
    {
      "cell_type": "code",
      "source": [
        "\n",
        "model.compile(loss = 'mean_squared_error', optimizer = 'adam')\n",
        "model.fit(X_train,y_train, validation_data = (X_test, y_test), epochs = 100, batch_size = 64)"
      ],
      "metadata": {
        "colab": {
          "base_uri": "https://localhost:8080/"
        },
        "id": "8D7MOE3a4H9M",
        "outputId": "74593a03-fd93-4a93-91ef-95d0f4383e41"
      },
      "execution_count": null,
      "outputs": [
        {
          "output_type": "stream",
          "name": "stdout",
          "text": [
            "Epoch 1/100\n",
            "1/1 [==============================] - 9s 9s/step - loss: 0.5968 - val_loss: 0.0584\n",
            "Epoch 2/100\n",
            "1/1 [==============================] - 0s 152ms/step - loss: 0.4577 - val_loss: 0.0402\n",
            "Epoch 3/100\n",
            "1/1 [==============================] - 0s 147ms/step - loss: 0.3397 - val_loss: 0.0245\n",
            "Epoch 4/100\n",
            "1/1 [==============================] - 0s 164ms/step - loss: 0.2335 - val_loss: 0.0113\n",
            "Epoch 5/100\n",
            "1/1 [==============================] - 0s 154ms/step - loss: 0.1359 - val_loss: 0.0021\n",
            "Epoch 6/100\n",
            "1/1 [==============================] - 0s 162ms/step - loss: 0.0529 - val_loss: 8.7366e-04\n",
            "Epoch 7/100\n",
            "1/1 [==============================] - 0s 178ms/step - loss: 0.0035 - val_loss: 0.0137\n",
            "Epoch 8/100\n",
            "1/1 [==============================] - 0s 150ms/step - loss: 0.0186 - val_loss: 0.0323\n",
            "Epoch 9/100\n",
            "1/1 [==============================] - 0s 145ms/step - loss: 0.0684 - val_loss: 0.0365\n",
            "Epoch 10/100\n",
            "1/1 [==============================] - 0s 148ms/step - loss: 0.0710 - val_loss: 0.0288\n",
            "Epoch 11/100\n",
            "1/1 [==============================] - 0s 162ms/step - loss: 0.0419 - val_loss: 0.0183\n",
            "Epoch 12/100\n",
            "1/1 [==============================] - 0s 155ms/step - loss: 0.0139 - val_loss: 0.0098\n",
            "Epoch 13/100\n",
            "1/1 [==============================] - 0s 147ms/step - loss: 9.5694e-04 - val_loss: 0.0046\n",
            "Epoch 14/100\n",
            "1/1 [==============================] - 0s 147ms/step - loss: 0.0018 - val_loss: 0.0020\n",
            "Epoch 15/100\n",
            "1/1 [==============================] - 0s 152ms/step - loss: 0.0097 - val_loss: 8.5745e-04\n",
            "Epoch 16/100\n",
            "1/1 [==============================] - 0s 137ms/step - loss: 0.0181 - val_loss: 4.9848e-04\n",
            "Epoch 17/100\n",
            "1/1 [==============================] - 0s 157ms/step - loss: 0.0234 - val_loss: 5.0553e-04\n",
            "Epoch 18/100\n",
            "1/1 [==============================] - 0s 174ms/step - loss: 0.0243 - val_loss: 8.2325e-04\n",
            "Epoch 19/100\n",
            "1/1 [==============================] - 0s 165ms/step - loss: 0.0215 - val_loss: 0.0016\n",
            "Epoch 20/100\n",
            "1/1 [==============================] - 0s 161ms/step - loss: 0.0161 - val_loss: 0.0030\n",
            "Epoch 21/100\n",
            "1/1 [==============================] - 0s 157ms/step - loss: 0.0099 - val_loss: 0.0054\n",
            "Epoch 22/100\n",
            "1/1 [==============================] - 0s 163ms/step - loss: 0.0044 - val_loss: 0.0086\n",
            "Epoch 23/100\n",
            "1/1 [==============================] - 0s 168ms/step - loss: 9.5322e-04 - val_loss: 0.0127\n",
            "Epoch 24/100\n",
            "1/1 [==============================] - 0s 173ms/step - loss: 2.4145e-05 - val_loss: 0.0172\n",
            "Epoch 25/100\n",
            "1/1 [==============================] - 0s 142ms/step - loss: 0.0014 - val_loss: 0.0214\n",
            "Epoch 26/100\n",
            "1/1 [==============================] - 0s 141ms/step - loss: 0.0040 - val_loss: 0.0244\n",
            "Epoch 27/100\n",
            "1/1 [==============================] - 0s 135ms/step - loss: 0.0065 - val_loss: 0.0259\n",
            "Epoch 28/100\n",
            "1/1 [==============================] - 0s 133ms/step - loss: 0.0076 - val_loss: 0.0256\n",
            "Epoch 29/100\n",
            "1/1 [==============================] - 0s 155ms/step - loss: 0.0070 - val_loss: 0.0239\n",
            "Epoch 30/100\n",
            "1/1 [==============================] - 0s 149ms/step - loss: 0.0051 - val_loss: 0.0212\n",
            "Epoch 31/100\n",
            "1/1 [==============================] - 0s 199ms/step - loss: 0.0029 - val_loss: 0.0182\n",
            "Epoch 32/100\n",
            "1/1 [==============================] - 0s 199ms/step - loss: 0.0010 - val_loss: 0.0154\n",
            "Epoch 33/100\n",
            "1/1 [==============================] - 0s 166ms/step - loss: 1.1496e-04 - val_loss: 0.0129\n",
            "Epoch 34/100\n",
            "1/1 [==============================] - 0s 159ms/step - loss: 8.6646e-05 - val_loss: 0.0111\n",
            "Epoch 35/100\n",
            "1/1 [==============================] - 0s 191ms/step - loss: 6.8777e-04 - val_loss: 0.0098\n",
            "Epoch 36/100\n",
            "1/1 [==============================] - 0s 234ms/step - loss: 0.0015 - val_loss: 0.0090\n",
            "Epoch 37/100\n",
            "1/1 [==============================] - 0s 286ms/step - loss: 0.0022 - val_loss: 0.0087\n",
            "Epoch 38/100\n",
            "1/1 [==============================] - 0s 279ms/step - loss: 0.0026 - val_loss: 0.0089\n",
            "Epoch 39/100\n",
            "1/1 [==============================] - 0s 266ms/step - loss: 0.0025 - val_loss: 0.0094\n",
            "Epoch 40/100\n",
            "1/1 [==============================] - 0s 251ms/step - loss: 0.0021 - val_loss: 0.0104\n",
            "Epoch 41/100\n",
            "1/1 [==============================] - 0s 252ms/step - loss: 0.0014 - val_loss: 0.0117\n",
            "Epoch 42/100\n",
            "1/1 [==============================] - 0s 254ms/step - loss: 7.1201e-04 - val_loss: 0.0133\n",
            "Epoch 43/100\n",
            "1/1 [==============================] - 0s 270ms/step - loss: 2.1585e-04 - val_loss: 0.0150\n",
            "Epoch 44/100\n",
            "1/1 [==============================] - 0s 273ms/step - loss: 5.5791e-06 - val_loss: 0.0167\n",
            "Epoch 45/100\n",
            "1/1 [==============================] - 0s 261ms/step - loss: 8.4181e-05 - val_loss: 0.0182\n",
            "Epoch 46/100\n",
            "1/1 [==============================] - 0s 226ms/step - loss: 3.5598e-04 - val_loss: 0.0193\n",
            "Epoch 47/100\n",
            "1/1 [==============================] - 0s 256ms/step - loss: 6.6908e-04 - val_loss: 0.0200\n",
            "Epoch 48/100\n",
            "1/1 [==============================] - 0s 276ms/step - loss: 8.7853e-04 - val_loss: 0.0201\n",
            "Epoch 49/100\n",
            "1/1 [==============================] - 0s 255ms/step - loss: 9.0257e-04 - val_loss: 0.0197\n",
            "Epoch 50/100\n",
            "1/1 [==============================] - 0s 267ms/step - loss: 7.4672e-04 - val_loss: 0.0190\n",
            "Epoch 51/100\n",
            "1/1 [==============================] - 0s 228ms/step - loss: 4.8734e-04 - val_loss: 0.0180\n",
            "Epoch 52/100\n",
            "1/1 [==============================] - 0s 222ms/step - loss: 2.2804e-04 - val_loss: 0.0169\n",
            "Epoch 53/100\n",
            "1/1 [==============================] - 0s 205ms/step - loss: 5.3376e-05 - val_loss: 0.0158\n",
            "Epoch 54/100\n",
            "1/1 [==============================] - 0s 205ms/step - loss: 1.8417e-07 - val_loss: 0.0149\n",
            "Epoch 55/100\n",
            "1/1 [==============================] - 0s 182ms/step - loss: 5.3897e-05 - val_loss: 0.0142\n",
            "Epoch 56/100\n",
            "1/1 [==============================] - 0s 205ms/step - loss: 1.6495e-04 - val_loss: 0.0137\n",
            "Epoch 57/100\n",
            "1/1 [==============================] - 0s 194ms/step - loss: 2.7387e-04 - val_loss: 0.0135\n",
            "Epoch 58/100\n",
            "1/1 [==============================] - 0s 203ms/step - loss: 3.3417e-04 - val_loss: 0.0136\n",
            "Epoch 59/100\n",
            "1/1 [==============================] - 0s 190ms/step - loss: 3.2595e-04 - val_loss: 0.0138\n",
            "Epoch 60/100\n",
            "1/1 [==============================] - 0s 185ms/step - loss: 2.5796e-04 - val_loss: 0.0143\n",
            "Epoch 61/100\n",
            "1/1 [==============================] - 0s 179ms/step - loss: 1.5975e-04 - val_loss: 0.0149\n",
            "Epoch 62/100\n",
            "1/1 [==============================] - 0s 188ms/step - loss: 6.7845e-05 - val_loss: 0.0156\n",
            "Epoch 63/100\n",
            "1/1 [==============================] - 0s 188ms/step - loss: 1.1371e-05 - val_loss: 0.0163\n",
            "Epoch 64/100\n",
            "1/1 [==============================] - 0s 170ms/step - loss: 2.0100e-06 - val_loss: 0.0170\n",
            "Epoch 65/100\n",
            "1/1 [==============================] - 0s 183ms/step - loss: 3.1688e-05 - val_loss: 0.0174\n",
            "Epoch 66/100\n",
            "1/1 [==============================] - 0s 201ms/step - loss: 7.8287e-05 - val_loss: 0.0178\n",
            "Epoch 67/100\n",
            "1/1 [==============================] - 0s 201ms/step - loss: 1.1653e-04 - val_loss: 0.0179\n",
            "Epoch 68/100\n",
            "1/1 [==============================] - 0s 191ms/step - loss: 1.2896e-04 - val_loss: 0.0178\n",
            "Epoch 69/100\n",
            "1/1 [==============================] - 0s 193ms/step - loss: 1.1204e-04 - val_loss: 0.0175\n",
            "Epoch 70/100\n",
            "1/1 [==============================] - 0s 210ms/step - loss: 7.5531e-05 - val_loss: 0.0171\n",
            "Epoch 71/100\n",
            "1/1 [==============================] - 0s 226ms/step - loss: 3.5925e-05 - val_loss: 0.0166\n",
            "Epoch 72/100\n",
            "1/1 [==============================] - 0s 263ms/step - loss: 8.2874e-06 - val_loss: 0.0162\n",
            "Epoch 73/100\n",
            "1/1 [==============================] - 0s 236ms/step - loss: 6.7784e-08 - val_loss: 0.0158\n",
            "Epoch 74/100\n",
            "1/1 [==============================] - 0s 210ms/step - loss: 9.3964e-06 - val_loss: 0.0155\n",
            "Epoch 75/100\n",
            "1/1 [==============================] - 0s 219ms/step - loss: 2.7583e-05 - val_loss: 0.0153\n",
            "Epoch 76/100\n",
            "1/1 [==============================] - 0s 208ms/step - loss: 4.3982e-05 - val_loss: 0.0153\n",
            "Epoch 77/100\n",
            "1/1 [==============================] - 0s 204ms/step - loss: 5.0759e-05 - val_loss: 0.0153\n",
            "Epoch 78/100\n",
            "1/1 [==============================] - 0s 226ms/step - loss: 4.5609e-05 - val_loss: 0.0155\n",
            "Epoch 79/100\n",
            "1/1 [==============================] - 0s 227ms/step - loss: 3.1770e-05 - val_loss: 0.0157\n",
            "Epoch 80/100\n",
            "1/1 [==============================] - 0s 195ms/step - loss: 1.5726e-05 - val_loss: 0.0160\n",
            "Epoch 81/100\n",
            "1/1 [==============================] - 0s 215ms/step - loss: 3.9275e-06 - val_loss: 0.0163\n",
            "Epoch 82/100\n",
            "1/1 [==============================] - 0s 187ms/step - loss: 3.0070e-09 - val_loss: 0.0166\n",
            "Epoch 83/100\n",
            "1/1 [==============================] - 0s 220ms/step - loss: 3.5967e-06 - val_loss: 0.0168\n",
            "Epoch 84/100\n",
            "1/1 [==============================] - 0s 180ms/step - loss: 1.1135e-05 - val_loss: 0.0169\n",
            "Epoch 85/100\n",
            "1/1 [==============================] - 0s 207ms/step - loss: 1.7920e-05 - val_loss: 0.0170\n",
            "Epoch 86/100\n",
            "1/1 [==============================] - 0s 208ms/step - loss: 2.0444e-05 - val_loss: 0.0169\n",
            "Epoch 87/100\n",
            "1/1 [==============================] - 0s 212ms/step - loss: 1.7811e-05 - val_loss: 0.0168\n",
            "Epoch 88/100\n",
            "1/1 [==============================] - 0s 249ms/step - loss: 1.1693e-05 - val_loss: 0.0166\n",
            "Epoch 89/100\n",
            "1/1 [==============================] - 0s 255ms/step - loss: 5.1366e-06 - val_loss: 0.0164\n",
            "Epoch 90/100\n",
            "1/1 [==============================] - 0s 236ms/step - loss: 8.8074e-07 - val_loss: 0.0163\n",
            "Epoch 91/100\n",
            "1/1 [==============================] - 0s 229ms/step - loss: 1.4457e-07 - val_loss: 0.0161\n",
            "Epoch 92/100\n",
            "1/1 [==============================] - 0s 230ms/step - loss: 2.3219e-06 - val_loss: 0.0160\n",
            "Epoch 93/100\n",
            "1/1 [==============================] - 0s 228ms/step - loss: 5.5890e-06 - val_loss: 0.0159\n",
            "Epoch 94/100\n",
            "1/1 [==============================] - 0s 205ms/step - loss: 7.9683e-06 - val_loss: 0.0159\n",
            "Epoch 95/100\n",
            "1/1 [==============================] - 0s 201ms/step - loss: 8.2730e-06 - val_loss: 0.0160\n",
            "Epoch 96/100\n",
            "1/1 [==============================] - 0s 189ms/step - loss: 6.5223e-06 - val_loss: 0.0160\n",
            "Epoch 97/100\n",
            "1/1 [==============================] - 0s 174ms/step - loss: 3.7274e-06 - val_loss: 0.0162\n",
            "Epoch 98/100\n",
            "1/1 [==============================] - 0s 189ms/step - loss: 1.2417e-06 - val_loss: 0.0163\n",
            "Epoch 99/100\n",
            "1/1 [==============================] - 0s 227ms/step - loss: 5.2196e-08 - val_loss: 0.0164\n",
            "Epoch 100/100\n",
            "1/1 [==============================] - 0s 226ms/step - loss: 3.6500e-07 - val_loss: 0.0165\n"
          ]
        },
        {
          "output_type": "execute_result",
          "data": {
            "text/plain": [
              "<keras.callbacks.History at 0x7f3b1eb37410>"
            ]
          },
          "metadata": {},
          "execution_count": 132
        }
      ]
    },
    {
      "cell_type": "markdown",
      "source": [
        "Plotting loss, it show how loss has decreased significantly"
      ],
      "metadata": {
        "id": "4rwV_yFU6Vgq"
      }
    },
    {
      "cell_type": "code",
      "source": [
        "loss = model.history.history['loss']\n",
        "plt.plot(loss)"
      ],
      "metadata": {
        "colab": {
          "base_uri": "https://localhost:8080/",
          "height": 282
        },
        "id": "VDfISDVZ5UKh",
        "outputId": "f4171f06-c366-47e9-847c-8386271671ed"
      },
      "execution_count": null,
      "outputs": [
        {
          "output_type": "execute_result",
          "data": {
            "text/plain": [
              "[<matplotlib.lines.Line2D at 0x7f3b1c191690>]"
            ]
          },
          "metadata": {},
          "execution_count": 133
        },
        {
          "output_type": "display_data",
          "data": {
            "text/plain": [
              "<Figure size 432x288 with 1 Axes>"
            ],
            "image/png": "[encoded data removed]"
          },
          "metadata": {
            "needs_background": "light"
          }
        }
      ]
    },
    {
      "cell_type": "markdown",
      "source": [
        "Predicting on train and test data"
      ],
      "metadata": {
        "id": "k5z04in76vaM"
      }
    },
    {
      "cell_type": "code",
      "source": [
        "train_predict = model.predict(X_train)\n",
        "test_predict = model.predict(X_test)\n",
        "                             "
      ],
      "metadata": {
        "id": "i3u6B9cT6lA0"
      },
      "execution_count": null,
      "outputs": []
    },
    {
      "cell_type": "markdown",
      "source": [
        "Inverse tranform to get values"
      ],
      "metadata": {
        "id": "GKQ7A2ia7BTt"
      }
    },
    {
      "cell_type": "code",
      "source": [
        "train_predict = normalise.inverse_transform(train_predict)\n",
        "test_predict = normalise.inverse_transform(test_predict)"
      ],
      "metadata": {
        "id": "8awHKSb47BBR"
      },
      "execution_count": null,
      "outputs": []
    },
    {
      "cell_type": "markdown",
      "source": [
        "Comparing using visuals (Data Visualization)"
      ],
      "metadata": {
        "id": "9_4fK8CQ7anH"
      }
    },
    {
      "cell_type": "code",
      "source": [
        "\n",
        "plt.plot(normalise.inverse_transform(open_arrayscaled))\n",
        "plt.plot(train_predict,linestyle = \":\",linewidth = 4, markersize = 9)\n",
        "plt.plot(test_predict,linestyle = \":\",linewidth = 4, markersize = 9)"
      ],
      "metadata": {
        "colab": {
          "base_uri": "https://localhost:8080/",
          "height": 282
        },
        "id": "WrsXekTq69UO",
        "outputId": "8f2b1007-0c72-4533-f91b-b2bef48ee3c3"
      },
      "execution_count": null,
      "outputs": [
        {
          "output_type": "execute_result",
          "data": {
            "text/plain": [
              "[<matplotlib.lines.Line2D at 0x7f3b1be42790>]"
            ]
          },
          "metadata": {},
          "execution_count": 136
        },
        {
          "output_type": "display_data",
          "data": {
            "text/plain": [
              "<Figure size 432x288 with 1 Axes>"
            ],
            "image/png": "[encoded data removed]"
          },
          "metadata": {
            "needs_background": "light"
          }
        }
      ]
    },
    {
      "cell_type": "markdown",
      "source": [
        "here data get overlap"
      ],
      "metadata": {
        "id": "zuncU5n1-J1p"
      }
    },
    {
      "cell_type": "code",
      "source": [
        "type(train_predict)"
      ],
      "metadata": {
        "colab": {
          "base_uri": "https://localhost:8080/"
        },
        "id": "0-mJx5IW8ZNg",
        "outputId": "a78fbf49-5ca3-4f88-cb63-f3a8a2e900c1"
      },
      "execution_count": null,
      "outputs": [
        {
          "output_type": "execute_result",
          "data": {
            "text/plain": [
              "numpy.ndarray"
            ]
          },
          "metadata": {},
          "execution_count": 137
        }
      ]
    },
    {
      "cell_type": "code",
      "source": [
        "test = np.vstack((train_predict,test_predict))"
      ],
      "metadata": {
        "id": "ltPV5UOi7uqT"
      },
      "execution_count": null,
      "outputs": []
    },
    {
      "cell_type": "markdown",
      "source": [
        "Combining the predicted data to create uniform data visualization"
      ],
      "metadata": {
        "id": "ywDvBce7-Rro"
      }
    },
    {
      "cell_type": "code",
      "source": [
        "plt.plot(normalise.inverse_transform(open_arrayscaled))\n",
        "plt.plot(test)"
      ],
      "metadata": {
        "colab": {
          "base_uri": "https://localhost:8080/",
          "height": 282
        },
        "id": "kKso6n_u9QTh",
        "outputId": "3d265dbb-3a3f-491f-e178-c775638f6e2b"
      },
      "execution_count": null,
      "outputs": [
        {
          "output_type": "execute_result",
          "data": {
            "text/plain": [
              "[<matplotlib.lines.Line2D at 0x7f3b1bdb4a50>]"
            ]
          },
          "metadata": {},
          "execution_count": 139
        },
        {
          "output_type": "display_data",
          "data": {
            "text/plain": [
              "<Figure size 432x288 with 1 Axes>"
            ],
            "image/png": "[encoded data removed]"
          },
          "metadata": {
            "needs_background": "light"
          }
        }
      ]
    },
    {
      "cell_type": "markdown",
      "source": [
        "Forecasting the next 30 days data"
      ],
      "metadata": {
        "id": "qrbPPJ6g-gDr"
      }
    },
    {
      "cell_type": "code",
      "source": [
        "print(\"length of test data\",len(ds_test))"
      ],
      "metadata": {
        "colab": {
          "base_uri": "https://localhost:8080/"
        },
        "id": "tSDSYyGZ9ffq",
        "outputId": "5348ff7e-8be8-4052-b182-f95ac6112cf2"
      },
      "execution_count": null,
      "outputs": [
        {
          "output_type": "stream",
          "name": "stdout",
          "text": [
            "length of test data 516\n"
          ]
        }
      ]
    },
    {
      "cell_type": "markdown",
      "source": [
        "getting last 70 days record"
      ],
      "metadata": {
        "id": "4sRVZHRj-95a"
      }
    },
    {
      "cell_type": "code",
      "source": [
        "future_input = ds_test[270:]"
      ],
      "metadata": {
        "id": "D1JDX3ZN-o9O"
      },
      "execution_count": null,
      "outputs": []
    },
    {
      "cell_type": "code",
      "source": [
        "future_input = future_input.reshape(1,-1)"
      ],
      "metadata": {
        "id": "1CN2yU26_F2i"
      },
      "execution_count": null,
      "outputs": []
    },
    {
      "cell_type": "code",
      "source": [
        "tmp_input = list(future_input)"
      ],
      "metadata": {
        "id": "iWKNm3VR_MVB"
      },
      "execution_count": null,
      "outputs": []
    },
    {
      "cell_type": "code",
      "source": [
        "future_input.shape"
      ],
      "metadata": {
        "colab": {
          "base_uri": "https://localhost:8080/"
        },
        "id": "35hZubt6_RU-",
        "outputId": "d72c8028-735a-49da-88f5-91cfa2d1b289"
      },
      "execution_count": null,
      "outputs": [
        {
          "output_type": "execute_result",
          "data": {
            "text/plain": [
              "(1, 246)"
            ]
          },
          "metadata": {},
          "execution_count": 144
        }
      ]
    },
    {
      "cell_type": "markdown",
      "source": [
        "Creating list of last 70 data"
      ],
      "metadata": {
        "id": "M4sYF-Si_p83"
      }
    },
    {
      "cell_type": "code",
      "source": [
        "tmp_input = tmp_input[0].tolist()"
      ],
      "metadata": {
        "id": "sxUjPeiS_UTT"
      },
      "execution_count": null,
      "outputs": []
    },
    {
      "cell_type": "markdown",
      "source": [
        "Predicting next 30 days price by using current data. It will predict in sliding window manner (algorithm)"
      ],
      "metadata": {
        "id": "xcKp3667_zrI"
      }
    },
    {
      "cell_type": "code",
      "source": [
        "last_output = []\n",
        "n_steps = 49\n",
        "i = 0\n",
        "while(i<30):\n",
        "  if(len(tmp_input) > 100):\n",
        "    future_input = np.array(tmp_input[1:])\n",
        "    future_input = future_input.reshape(1,-1)\n",
        "    future_input = future_input.reshape((5,n_steps,1))\n",
        "    yhat = model.predict(future_input,verbose = 0)\n",
        "    tmp_input.extend(yhat[0].tolist())\n",
        "    tmp_input = tmp_input[1:]\n",
        "    last_output.extend(yhat.tolist())\n",
        "    i=i+1\n",
        "\n",
        "  else:\n",
        "      future_input = future_input.reshape((1,n_steps,1))\n",
        "      yhat = model.predict(future_input , verboss = 0)\n",
        "      tmp_input.extend(yhat[0].tolist())\n",
        "      last_output.extend(yhat.tolist())\n",
        "      i=i+1\n",
        "\n"
      ],
      "metadata": {
        "id": "MCUN_aEM_ygk"
      },
      "execution_count": null,
      "outputs": []
    },
    {
      "cell_type": "code",
      "source": [
        "print(last_output)"
      ],
      "metadata": {
        "colab": {
          "base_uri": "https://localhost:8080/"
        },
        "id": "zImoUhWfBiSc",
        "outputId": "27f14eb8-b97a-4fbd-adc9-31b383ea922b"
      },
      "execution_count": null,
      "outputs": [
        {
          "output_type": "stream",
          "name": "stdout",
          "text": [
            "[[0.4460992217063904], [0.4268839955329895], [0.3525559604167938], [0.32128438353538513], [0.3661716878414154], [0.44540783762931824], [0.4256267845630646], [0.35088032484054565], [0.32303568720817566], [0.3697008788585663], [0.4447208046913147], [0.4245680868625641], [0.3492601215839386], [0.32490935921669006], [0.3747318983078003], [0.4441443383693695], [0.42364808917045593], [0.34771132469177246], [0.32693102955818176], [0.38131314516067505], [0.4438689053058624], [0.42284470796585083], [0.3461669087409973], [0.32902783155441284], [0.3892565667629242], [0.44399750232696533], [0.4221183955669403], [0.3445541262626648], [0.3311494290828705], [0.39823585748672485], [0.44448378682136536], [0.4214865267276764], [0.34270352125167847], [0.33327028155326843], [0.40787842869758606], [0.4452008306980133], [0.42094531655311584], [0.34056970477104187], [0.3353230953216553], [0.4178234338760376], [0.4459606111049652], [0.42049872875213623], [0.33822306990623474], [0.3372161388397217], [0.427754282951355], [0.4467400908470154], [0.420142263174057], [0.3357775807380676], [0.3388202488422394], [0.4374154508113861], [0.4475073516368866], [0.41985923051834106], [0.33338025212287903], [0.34018829464912415], [0.4466118812561035], [0.44831860065460205], [0.41962385177612305], [0.3310759961605072], [0.341390460729599], [0.4552140235900879], [0.44903555512428284], [0.41948506236076355], [0.3289421796798706], [0.34244829416275024], [0.4631440043449402], [0.4496690034866333], [0.4193427562713623], [0.3270960748195648], [0.34339380264282227], [0.4703648090362549], [0.4502207040786743], [0.4190787374973297], [0.3256415128707886], [0.34423500299453735], [0.4768734574317932], [0.450742244720459], [0.4185921549797058], [0.3245665729045868], [0.3449416756629944], [0.48269039392471313], [0.4513438940048218], [0.4178480803966522], [0.3238142430782318], [0.3454073965549469], [0.48785296082496643], [0.4520135819911957], [0.41679179668426514], [0.32330936193466187], [0.345540314912796], [0.49240776896476746], [0.45271754264831543], [0.41545194387435913], [0.32290709018707275], [0.34529390931129456], [0.4964084029197693], [0.45347824692726135], [0.4138668477535248], [0.3225643038749695], [0.3446614146232605], [0.4999115765094757], [0.4542393088340759], [0.41204142570495605], [0.3222963809967041], [0.3437863290309906], [0.5029722452163696], [0.45506492257118225], [0.40998682379722595], [0.3220594525337219], [0.34286659955978394], [0.5056459307670593], [0.45593926310539246], [0.4077213406562805], [0.3218277394771576], [0.3420006036758423], [0.5079857110977173], [0.4567534029483795], [0.4052794873714447], [0.3215385973453522], [0.3412870466709137], [0.5100378394126892], [0.45735952258110046], [0.4026963710784912], [0.32120025157928467], [0.3407706618309021], [0.5118451714515686], [0.4576987326145172], [0.40004244446754456], [0.3209523558616638], [0.3404463231563568], [0.513444185256958], [0.45771825313568115], [0.39742809534072876], [0.3208002746105194], [0.3403032422065735], [0.5148636698722839], [0.4574444890022278], [0.3949367105960846], [0.32072487473487854], [0.340291291475296], [0.5161263346672058], [0.4568970799446106], [0.39267945289611816], [0.3207198679447174], [0.34030473232269287], [0.517248272895813], [0.45606136322021484], [0.39065536856651306], [0.3207888901233673], [0.3403741717338562], [0.5182374715805054]]\n"
          ]
        }
      ]
    },
    {
      "cell_type": "code",
      "source": [
        "len(open_arrayscaled)"
      ],
      "metadata": {
        "colab": {
          "base_uri": "https://localhost:8080/"
        },
        "id": "5i7hCtWdHQVo",
        "outputId": "cd75236e-3536-4008-fb44-a6547e1a9f4d"
      },
      "execution_count": null,
      "outputs": [
        {
          "output_type": "execute_result",
          "data": {
            "text/plain": [
              "1718"
            ]
          },
          "metadata": {},
          "execution_count": 163
        }
      ]
    },
    {
      "cell_type": "markdown",
      "source": [
        "Creating a dumy plane to plot graph one after another "
      ],
      "metadata": {
        "id": "g4mrlMdeHc9Y"
      }
    },
    {
      "cell_type": "code",
      "source": [
        "plot_new = np.arange(1,860)\n",
        "plot_pred = np.arange(860,1718)\n",
        "                      "
      ],
      "metadata": {
        "id": "wxlGlHU1HWeQ"
      },
      "execution_count": null,
      "outputs": []
    },
    {
      "cell_type": "code",
      "source": [
        "\n",
        "plt.plot(plot_new,normalise.inverse_transform(open_arrayscaled[859:]))\n",
        "plt.plot(plot_pred,normalise.inverse_transform(last_output))"
      ],
      "metadata": {
        "colab": {
          "base_uri": "https://localhost:8080/",
          "height": 594
        },
        "id": "4okrUQmXHtOU",
        "outputId": "136eaeae-10de-4b1b-cf72-6ed908e7b335"
      },
      "execution_count": null,
      "outputs": [
        {
          "output_type": "error",
          "ename": "ValueError",
          "evalue": "ignored",
          "traceback": [
            "\u001b[0;31m---------------------------------------------------------------------------\u001b[0m",
            "\u001b[0;31mValueError\u001b[0m                                Traceback (most recent call last)",
            "\u001b[0;32m<ipython-input-205-fb2051f748a7>\u001b[0m in \u001b[0;36m<module>\u001b[0;34m()\u001b[0m\n\u001b[1;32m      1\u001b[0m \u001b[0;34m\u001b[0m\u001b[0m\n\u001b[1;32m      2\u001b[0m \u001b[0mplt\u001b[0m\u001b[0;34m.\u001b[0m\u001b[0mplot\u001b[0m\u001b[0;34m(\u001b[0m\u001b[0mplot_new\u001b[0m\u001b[0;34m,\u001b[0m\u001b[0mnormalise\u001b[0m\u001b[0;34m.\u001b[0m\u001b[0minverse_transform\u001b[0m\u001b[0;34m(\u001b[0m\u001b[0mopen_arrayscaled\u001b[0m\u001b[0;34m[\u001b[0m\u001b[0;36m859\u001b[0m\u001b[0;34m:\u001b[0m\u001b[0;34m]\u001b[0m\u001b[0;34m)\u001b[0m\u001b[0;34m)\u001b[0m\u001b[0;34m\u001b[0m\u001b[0;34m\u001b[0m\u001b[0m\n\u001b[0;32m----> 3\u001b[0;31m \u001b[0mplt\u001b[0m\u001b[0;34m.\u001b[0m\u001b[0mplot\u001b[0m\u001b[0;34m(\u001b[0m\u001b[0mplot_pred\u001b[0m\u001b[0;34m,\u001b[0m\u001b[0mnormalise\u001b[0m\u001b[0;34m.\u001b[0m\u001b[0minverse_transform\u001b[0m\u001b[0;34m(\u001b[0m\u001b[0mlast_output\u001b[0m\u001b[0;34m)\u001b[0m\u001b[0;34m)\u001b[0m\u001b[0;34m\u001b[0m\u001b[0;34m\u001b[0m\u001b[0m\n\u001b[0m",
            "\u001b[0;32m/usr/local/lib/python3.7/dist-packages/matplotlib/pyplot.py\u001b[0m in \u001b[0;36mplot\u001b[0;34m(scalex, scaley, data, *args, **kwargs)\u001b[0m\n\u001b[1;32m   2761\u001b[0m     return gca().plot(\n\u001b[1;32m   2762\u001b[0m         *args, scalex=scalex, scaley=scaley, **({\"data\": data} if data\n\u001b[0;32m-> 2763\u001b[0;31m         is not None else {}), **kwargs)\n\u001b[0m\u001b[1;32m   2764\u001b[0m \u001b[0;34m\u001b[0m\u001b[0m\n\u001b[1;32m   2765\u001b[0m \u001b[0;34m\u001b[0m\u001b[0m\n",
            "\u001b[0;32m/usr/local/lib/python3.7/dist-packages/matplotlib/axes/_axes.py\u001b[0m in \u001b[0;36mplot\u001b[0;34m(self, scalex, scaley, data, *args, **kwargs)\u001b[0m\n\u001b[1;32m   1645\u001b[0m         \"\"\"\n\u001b[1;32m   1646\u001b[0m         \u001b[0mkwargs\u001b[0m \u001b[0;34m=\u001b[0m \u001b[0mcbook\u001b[0m\u001b[0;34m.\u001b[0m\u001b[0mnormalize_kwargs\u001b[0m\u001b[0;34m(\u001b[0m\u001b[0mkwargs\u001b[0m\u001b[0;34m,\u001b[0m \u001b[0mmlines\u001b[0m\u001b[0;34m.\u001b[0m\u001b[0mLine2D\u001b[0m\u001b[0;34m)\u001b[0m\u001b[0;34m\u001b[0m\u001b[0;34m\u001b[0m\u001b[0m\n\u001b[0;32m-> 1647\u001b[0;31m         \u001b[0mlines\u001b[0m \u001b[0;34m=\u001b[0m \u001b[0;34m[\u001b[0m\u001b[0;34m*\u001b[0m\u001b[0mself\u001b[0m\u001b[0;34m.\u001b[0m\u001b[0m_get_lines\u001b[0m\u001b[0;34m(\u001b[0m\u001b[0;34m*\u001b[0m\u001b[0margs\u001b[0m\u001b[0;34m,\u001b[0m \u001b[0mdata\u001b[0m\u001b[0;34m=\u001b[0m\u001b[0mdata\u001b[0m\u001b[0;34m,\u001b[0m \u001b[0;34m**\u001b[0m\u001b[0mkwargs\u001b[0m\u001b[0;34m)\u001b[0m\u001b[0;34m]\u001b[0m\u001b[0;34m\u001b[0m\u001b[0;34m\u001b[0m\u001b[0m\n\u001b[0m\u001b[1;32m   1648\u001b[0m         \u001b[0;32mfor\u001b[0m \u001b[0mline\u001b[0m \u001b[0;32min\u001b[0m \u001b[0mlines\u001b[0m\u001b[0;34m:\u001b[0m\u001b[0;34m\u001b[0m\u001b[0;34m\u001b[0m\u001b[0m\n\u001b[1;32m   1649\u001b[0m             \u001b[0mself\u001b[0m\u001b[0;34m.\u001b[0m\u001b[0madd_line\u001b[0m\u001b[0;34m(\u001b[0m\u001b[0mline\u001b[0m\u001b[0;34m)\u001b[0m\u001b[0;34m\u001b[0m\u001b[0;34m\u001b[0m\u001b[0m\n",
            "\u001b[0;32m/usr/local/lib/python3.7/dist-packages/matplotlib/axes/_base.py\u001b[0m in \u001b[0;36m__call__\u001b[0;34m(self, *args, **kwargs)\u001b[0m\n\u001b[1;32m    214\u001b[0m                 \u001b[0mthis\u001b[0m \u001b[0;34m+=\u001b[0m \u001b[0margs\u001b[0m\u001b[0;34m[\u001b[0m\u001b[0;36m0\u001b[0m\u001b[0;34m]\u001b[0m\u001b[0;34m,\u001b[0m\u001b[0;34m\u001b[0m\u001b[0;34m\u001b[0m\u001b[0m\n\u001b[1;32m    215\u001b[0m                 \u001b[0margs\u001b[0m \u001b[0;34m=\u001b[0m \u001b[0margs\u001b[0m\u001b[0;34m[\u001b[0m\u001b[0;36m1\u001b[0m\u001b[0;34m:\u001b[0m\u001b[0;34m]\u001b[0m\u001b[0;34m\u001b[0m\u001b[0;34m\u001b[0m\u001b[0m\n\u001b[0;32m--> 216\u001b[0;31m             \u001b[0;32myield\u001b[0m \u001b[0;32mfrom\u001b[0m \u001b[0mself\u001b[0m\u001b[0;34m.\u001b[0m\u001b[0m_plot_args\u001b[0m\u001b[0;34m(\u001b[0m\u001b[0mthis\u001b[0m\u001b[0;34m,\u001b[0m \u001b[0mkwargs\u001b[0m\u001b[0;34m)\u001b[0m\u001b[0;34m\u001b[0m\u001b[0;34m\u001b[0m\u001b[0m\n\u001b[0m\u001b[1;32m    217\u001b[0m \u001b[0;34m\u001b[0m\u001b[0m\n\u001b[1;32m    218\u001b[0m     \u001b[0;32mdef\u001b[0m \u001b[0mget_next_color\u001b[0m\u001b[0;34m(\u001b[0m\u001b[0mself\u001b[0m\u001b[0;34m)\u001b[0m\u001b[0;34m:\u001b[0m\u001b[0;34m\u001b[0m\u001b[0;34m\u001b[0m\u001b[0m\n",
            "\u001b[0;32m/usr/local/lib/python3.7/dist-packages/matplotlib/axes/_base.py\u001b[0m in \u001b[0;36m_plot_args\u001b[0;34m(self, tup, kwargs)\u001b[0m\n\u001b[1;32m    340\u001b[0m \u001b[0;34m\u001b[0m\u001b[0m\n\u001b[1;32m    341\u001b[0m         \u001b[0;32mif\u001b[0m \u001b[0mx\u001b[0m\u001b[0;34m.\u001b[0m\u001b[0mshape\u001b[0m\u001b[0;34m[\u001b[0m\u001b[0;36m0\u001b[0m\u001b[0;34m]\u001b[0m \u001b[0;34m!=\u001b[0m \u001b[0my\u001b[0m\u001b[0;34m.\u001b[0m\u001b[0mshape\u001b[0m\u001b[0;34m[\u001b[0m\u001b[0;36m0\u001b[0m\u001b[0;34m]\u001b[0m\u001b[0;34m:\u001b[0m\u001b[0;34m\u001b[0m\u001b[0;34m\u001b[0m\u001b[0m\n\u001b[0;32m--> 342\u001b[0;31m             raise ValueError(f\"x and y must have same first dimension, but \"\n\u001b[0m\u001b[1;32m    343\u001b[0m                              f\"have shapes {x.shape} and {y.shape}\")\n\u001b[1;32m    344\u001b[0m         \u001b[0;32mif\u001b[0m \u001b[0mx\u001b[0m\u001b[0;34m.\u001b[0m\u001b[0mndim\u001b[0m \u001b[0;34m>\u001b[0m \u001b[0;36m2\u001b[0m \u001b[0;32mor\u001b[0m \u001b[0my\u001b[0m\u001b[0;34m.\u001b[0m\u001b[0mndim\u001b[0m \u001b[0;34m>\u001b[0m \u001b[0;36m2\u001b[0m\u001b[0;34m:\u001b[0m\u001b[0;34m\u001b[0m\u001b[0;34m\u001b[0m\u001b[0m\n",
            "\u001b[0;31mValueError\u001b[0m: x and y must have same first dimension, but have shapes (858,) and (150, 1)"
          ]
        },
        {
          "output_type": "display_data",
          "data": {
            "text/plain": [
              "<Figure size 432x288 with 1 Axes>"
            ],
            "image/png": "[encoded data removed]"
          },
          "metadata": {
            "needs_background": "light"
          }
        }
      ]
    },
    {
      "cell_type": "code",
      "source": [
        "ds_new = open_arrayscaled.tolist()\n",
        "\n"
      ],
      "metadata": {
        "id": "fFUvspffH3FE"
      },
      "execution_count": null,
      "outputs": []
    },
    {
      "cell_type": "code",
      "source": [
        "len(ds_new)"
      ],
      "metadata": {
        "colab": {
          "base_uri": "https://localhost:8080/"
        },
        "id": "yaQJyCE4OsMB",
        "outputId": "8f00bf83-1dfd-410e-bb47-3979703208b3"
      },
      "execution_count": null,
      "outputs": [
        {
          "output_type": "execute_result",
          "data": {
            "text/plain": [
              "1718"
            ]
          },
          "metadata": {},
          "execution_count": 207
        }
      ]
    },
    {
      "cell_type": "markdown",
      "source": [
        "Extends help to fill missing values by approx value"
      ],
      "metadata": {
        "id": "yJj-gzvlPEmN"
      }
    },
    {
      "cell_type": "code",
      "source": [
        "ds_new.extend(last_output)\n",
        "plt.plot(ds_new[890:])"
      ],
      "metadata": {
        "colab": {
          "base_uri": "https://localhost:8080/",
          "height": 282
        },
        "id": "z5dJmmSFOuLL",
        "outputId": "cd1887d5-99fa-47a2-d330-079fbd864cc2"
      },
      "execution_count": null,
      "outputs": [
        {
          "output_type": "execute_result",
          "data": {
            "text/plain": [
              "[<matplotlib.lines.Line2D at 0x7f3b194f05d0>]"
            ]
          },
          "metadata": {},
          "execution_count": 215
        },
        {
          "output_type": "display_data",
          "data": {
            "text/plain": [
              "<Figure size 432x288 with 1 Axes>"
            ],
            "image/png": "[encoded data removed]"
          },
          "metadata": {
            "needs_background": "light"
          }
        }
      ]
    },
    {
      "cell_type": "markdown",
      "source": [
        "Create final data for plotting"
      ],
      "metadata": {
        "id": "zUexvmQOPP7b"
      }
    },
    {
      "cell_type": "code",
      "source": [
        "final_graph = normalise.inverse_transform(ds_new).tolist()"
      ],
      "metadata": {
        "id": "YHImQMBdOzfV"
      },
      "execution_count": null,
      "outputs": []
    },
    {
      "cell_type": "markdown",
      "source": [
        "Plotting final result with predicted value after 30 days"
      ],
      "metadata": {
        "id": "TleE8DoBPhge"
      }
    },
    {
      "cell_type": "code",
      "source": [
        "plt.plot(final_graph,)\n",
        "plt.ylabel(\"Price\")\n",
        "plt.xlabel(\"Time\")\n",
        "plt.title(\"Prediction of next month open\")\n",
        "plt.axhline(y=final_graph[len(final_graph)-1], color = 'red', linestyle = ':', label = 'NEXT 30D: {0}'.format(round(float(*final_graph[len(final_graph)-1]),2)))\n",
        "plt.legend()"
      ],
      "metadata": {
        "colab": {
          "base_uri": "https://localhost:8080/",
          "height": 312
        },
        "id": "vTW_MEiGPcmJ",
        "outputId": "0ecf7396-5463-432c-d7e0-0bbe07fd2e87"
      },
      "execution_count": null,
      "outputs": [
        {
          "output_type": "execute_result",
          "data": {
            "text/plain": [
              "<matplotlib.legend.Legend at 0x7f3b193a8350>"
            ]
          },
          "metadata": {},
          "execution_count": 223
        },
        {
          "output_type": "display_data",
          "data": {
            "text/plain": [
              "<Figure size 432x288 with 1 Axes>"
            ],
            "image/png": "[encoded data removed]"
          },
          "metadata": {
            "needs_background": "light"
          }
        }
      ]
    },
    {
      "cell_type": "code",
      "source": [],
      "metadata": {
        "id": "T-iDuJh9QipW"
      },
      "execution_count": null,
      "outputs": []
    }
  ]
}